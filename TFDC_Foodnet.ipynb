{
  "nbformat": 4,
  "nbformat_minor": 0,
  "metadata": {
    "colab": {
      "provenance": [],
      "gpuType": "T4",
      "include_colab_link": true
    },
    "kernelspec": {
      "name": "python3",
      "display_name": "Python 3"
    },
    "language_info": {
      "name": "python"
    },
    "accelerator": "GPU",
    "widgets": {
      "application/vnd.jupyter.widget-state+json": {
        "fefc427568e54dd485ed350713b8fd6b": {
          "model_module": "@jupyter-widgets/controls",
          "model_name": "HBoxModel",
          "model_module_version": "1.5.0",
          "state": {
            "_dom_classes": [],
            "_model_module": "@jupyter-widgets/controls",
            "_model_module_version": "1.5.0",
            "_model_name": "HBoxModel",
            "_view_count": null,
            "_view_module": "@jupyter-widgets/controls",
            "_view_module_version": "1.5.0",
            "_view_name": "HBoxView",
            "box_style": "",
            "children": [
              "IPY_MODEL_e45840a9efd443989ea75a9d8b7af2e4",
              "IPY_MODEL_d1574269bb454fbfaa84959c7c6c788a",
              "IPY_MODEL_3cc3e43f56f248d1b86565f21be096d9"
            ],
            "layout": "IPY_MODEL_a0c326a1ce734ae19f2568e07e7816ff"
          }
        },
        "e45840a9efd443989ea75a9d8b7af2e4": {
          "model_module": "@jupyter-widgets/controls",
          "model_name": "HTMLModel",
          "model_module_version": "1.5.0",
          "state": {
            "_dom_classes": [],
            "_model_module": "@jupyter-widgets/controls",
            "_model_module_version": "1.5.0",
            "_model_name": "HTMLModel",
            "_view_count": null,
            "_view_module": "@jupyter-widgets/controls",
            "_view_module_version": "1.5.0",
            "_view_name": "HTMLView",
            "description": "",
            "description_tooltip": null,
            "layout": "IPY_MODEL_b604da6e435d4c91a8d58cc44056b5ca",
            "placeholder": "​",
            "style": "IPY_MODEL_9cf74d831dde4e618ebab99eab0dbc46",
            "value": "Dl Completed...: 100%"
          }
        },
        "d1574269bb454fbfaa84959c7c6c788a": {
          "model_module": "@jupyter-widgets/controls",
          "model_name": "FloatProgressModel",
          "model_module_version": "1.5.0",
          "state": {
            "_dom_classes": [],
            "_model_module": "@jupyter-widgets/controls",
            "_model_module_version": "1.5.0",
            "_model_name": "FloatProgressModel",
            "_view_count": null,
            "_view_module": "@jupyter-widgets/controls",
            "_view_module_version": "1.5.0",
            "_view_name": "ProgressView",
            "bar_style": "info",
            "description": "",
            "description_tooltip": null,
            "layout": "IPY_MODEL_6915542f02604e718372338ad0bc8e97",
            "max": 1,
            "min": 0,
            "orientation": "horizontal",
            "style": "IPY_MODEL_6f48c6e3a8294fc58295952fe2a02dfb",
            "value": 1
          }
        },
        "3cc3e43f56f248d1b86565f21be096d9": {
          "model_module": "@jupyter-widgets/controls",
          "model_name": "HTMLModel",
          "model_module_version": "1.5.0",
          "state": {
            "_dom_classes": [],
            "_model_module": "@jupyter-widgets/controls",
            "_model_module_version": "1.5.0",
            "_model_name": "HTMLModel",
            "_view_count": null,
            "_view_module": "@jupyter-widgets/controls",
            "_view_module_version": "1.5.0",
            "_view_name": "HTMLView",
            "description": "",
            "description_tooltip": null,
            "layout": "IPY_MODEL_9e251a8538ce4354abd2c570eaac827b",
            "placeholder": "​",
            "style": "IPY_MODEL_7ed1cade84f04e5cb7bf23cf5eca3385",
            "value": " 1/1 [10:59&lt;00:00, 335.58s/ url]"
          }
        },
        "a0c326a1ce734ae19f2568e07e7816ff": {
          "model_module": "@jupyter-widgets/base",
          "model_name": "LayoutModel",
          "model_module_version": "1.2.0",
          "state": {
            "_model_module": "@jupyter-widgets/base",
            "_model_module_version": "1.2.0",
            "_model_name": "LayoutModel",
            "_view_count": null,
            "_view_module": "@jupyter-widgets/base",
            "_view_module_version": "1.2.0",
            "_view_name": "LayoutView",
            "align_content": null,
            "align_items": null,
            "align_self": null,
            "border": null,
            "bottom": null,
            "display": null,
            "flex": null,
            "flex_flow": null,
            "grid_area": null,
            "grid_auto_columns": null,
            "grid_auto_flow": null,
            "grid_auto_rows": null,
            "grid_column": null,
            "grid_gap": null,
            "grid_row": null,
            "grid_template_areas": null,
            "grid_template_columns": null,
            "grid_template_rows": null,
            "height": null,
            "justify_content": null,
            "justify_items": null,
            "left": null,
            "margin": null,
            "max_height": null,
            "max_width": null,
            "min_height": null,
            "min_width": null,
            "object_fit": null,
            "object_position": null,
            "order": null,
            "overflow": null,
            "overflow_x": null,
            "overflow_y": null,
            "padding": null,
            "right": null,
            "top": null,
            "visibility": null,
            "width": null
          }
        },
        "b604da6e435d4c91a8d58cc44056b5ca": {
          "model_module": "@jupyter-widgets/base",
          "model_name": "LayoutModel",
          "model_module_version": "1.2.0",
          "state": {
            "_model_module": "@jupyter-widgets/base",
            "_model_module_version": "1.2.0",
            "_model_name": "LayoutModel",
            "_view_count": null,
            "_view_module": "@jupyter-widgets/base",
            "_view_module_version": "1.2.0",
            "_view_name": "LayoutView",
            "align_content": null,
            "align_items": null,
            "align_self": null,
            "border": null,
            "bottom": null,
            "display": null,
            "flex": null,
            "flex_flow": null,
            "grid_area": null,
            "grid_auto_columns": null,
            "grid_auto_flow": null,
            "grid_auto_rows": null,
            "grid_column": null,
            "grid_gap": null,
            "grid_row": null,
            "grid_template_areas": null,
            "grid_template_columns": null,
            "grid_template_rows": null,
            "height": null,
            "justify_content": null,
            "justify_items": null,
            "left": null,
            "margin": null,
            "max_height": null,
            "max_width": null,
            "min_height": null,
            "min_width": null,
            "object_fit": null,
            "object_position": null,
            "order": null,
            "overflow": null,
            "overflow_x": null,
            "overflow_y": null,
            "padding": null,
            "right": null,
            "top": null,
            "visibility": null,
            "width": null
          }
        },
        "9cf74d831dde4e618ebab99eab0dbc46": {
          "model_module": "@jupyter-widgets/controls",
          "model_name": "DescriptionStyleModel",
          "model_module_version": "1.5.0",
          "state": {
            "_model_module": "@jupyter-widgets/controls",
            "_model_module_version": "1.5.0",
            "_model_name": "DescriptionStyleModel",
            "_view_count": null,
            "_view_module": "@jupyter-widgets/base",
            "_view_module_version": "1.2.0",
            "_view_name": "StyleView",
            "description_width": ""
          }
        },
        "6915542f02604e718372338ad0bc8e97": {
          "model_module": "@jupyter-widgets/base",
          "model_name": "LayoutModel",
          "model_module_version": "1.2.0",
          "state": {
            "_model_module": "@jupyter-widgets/base",
            "_model_module_version": "1.2.0",
            "_model_name": "LayoutModel",
            "_view_count": null,
            "_view_module": "@jupyter-widgets/base",
            "_view_module_version": "1.2.0",
            "_view_name": "LayoutView",
            "align_content": null,
            "align_items": null,
            "align_self": null,
            "border": null,
            "bottom": null,
            "display": null,
            "flex": null,
            "flex_flow": null,
            "grid_area": null,
            "grid_auto_columns": null,
            "grid_auto_flow": null,
            "grid_auto_rows": null,
            "grid_column": null,
            "grid_gap": null,
            "grid_row": null,
            "grid_template_areas": null,
            "grid_template_columns": null,
            "grid_template_rows": null,
            "height": null,
            "justify_content": null,
            "justify_items": null,
            "left": null,
            "margin": null,
            "max_height": null,
            "max_width": null,
            "min_height": null,
            "min_width": null,
            "object_fit": null,
            "object_position": null,
            "order": null,
            "overflow": null,
            "overflow_x": null,
            "overflow_y": null,
            "padding": null,
            "right": null,
            "top": null,
            "visibility": null,
            "width": "20px"
          }
        },
        "6f48c6e3a8294fc58295952fe2a02dfb": {
          "model_module": "@jupyter-widgets/controls",
          "model_name": "ProgressStyleModel",
          "model_module_version": "1.5.0",
          "state": {
            "_model_module": "@jupyter-widgets/controls",
            "_model_module_version": "1.5.0",
            "_model_name": "ProgressStyleModel",
            "_view_count": null,
            "_view_module": "@jupyter-widgets/base",
            "_view_module_version": "1.2.0",
            "_view_name": "StyleView",
            "bar_color": null,
            "description_width": ""
          }
        },
        "9e251a8538ce4354abd2c570eaac827b": {
          "model_module": "@jupyter-widgets/base",
          "model_name": "LayoutModel",
          "model_module_version": "1.2.0",
          "state": {
            "_model_module": "@jupyter-widgets/base",
            "_model_module_version": "1.2.0",
            "_model_name": "LayoutModel",
            "_view_count": null,
            "_view_module": "@jupyter-widgets/base",
            "_view_module_version": "1.2.0",
            "_view_name": "LayoutView",
            "align_content": null,
            "align_items": null,
            "align_self": null,
            "border": null,
            "bottom": null,
            "display": null,
            "flex": null,
            "flex_flow": null,
            "grid_area": null,
            "grid_auto_columns": null,
            "grid_auto_flow": null,
            "grid_auto_rows": null,
            "grid_column": null,
            "grid_gap": null,
            "grid_row": null,
            "grid_template_areas": null,
            "grid_template_columns": null,
            "grid_template_rows": null,
            "height": null,
            "justify_content": null,
            "justify_items": null,
            "left": null,
            "margin": null,
            "max_height": null,
            "max_width": null,
            "min_height": null,
            "min_width": null,
            "object_fit": null,
            "object_position": null,
            "order": null,
            "overflow": null,
            "overflow_x": null,
            "overflow_y": null,
            "padding": null,
            "right": null,
            "top": null,
            "visibility": null,
            "width": null
          }
        },
        "7ed1cade84f04e5cb7bf23cf5eca3385": {
          "model_module": "@jupyter-widgets/controls",
          "model_name": "DescriptionStyleModel",
          "model_module_version": "1.5.0",
          "state": {
            "_model_module": "@jupyter-widgets/controls",
            "_model_module_version": "1.5.0",
            "_model_name": "DescriptionStyleModel",
            "_view_count": null,
            "_view_module": "@jupyter-widgets/base",
            "_view_module_version": "1.2.0",
            "_view_name": "StyleView",
            "description_width": ""
          }
        },
        "4d3859569676466aaec242d2639a39bf": {
          "model_module": "@jupyter-widgets/controls",
          "model_name": "HBoxModel",
          "model_module_version": "1.5.0",
          "state": {
            "_dom_classes": [],
            "_model_module": "@jupyter-widgets/controls",
            "_model_module_version": "1.5.0",
            "_model_name": "HBoxModel",
            "_view_count": null,
            "_view_module": "@jupyter-widgets/controls",
            "_view_module_version": "1.5.0",
            "_view_name": "HBoxView",
            "box_style": "",
            "children": [
              "IPY_MODEL_68888c00efde49f885d799dd6f60fe2e",
              "IPY_MODEL_358b031992b748f49dd0015a5d7e9599",
              "IPY_MODEL_58bd6ee574bc43799c295e9a8a0021b2"
            ],
            "layout": "IPY_MODEL_72953e628c9f41a1ac00b5e20dd514a0"
          }
        },
        "68888c00efde49f885d799dd6f60fe2e": {
          "model_module": "@jupyter-widgets/controls",
          "model_name": "HTMLModel",
          "model_module_version": "1.5.0",
          "state": {
            "_dom_classes": [],
            "_model_module": "@jupyter-widgets/controls",
            "_model_module_version": "1.5.0",
            "_model_name": "HTMLModel",
            "_view_count": null,
            "_view_module": "@jupyter-widgets/controls",
            "_view_module_version": "1.5.0",
            "_view_name": "HTMLView",
            "description": "",
            "description_tooltip": null,
            "layout": "IPY_MODEL_0c3a413eaedf41c3afd25958c38d53dc",
            "placeholder": "​",
            "style": "IPY_MODEL_1acff524a2ac4f6daf9f8ef048851792",
            "value": "Dl Size...: 100%"
          }
        },
        "358b031992b748f49dd0015a5d7e9599": {
          "model_module": "@jupyter-widgets/controls",
          "model_name": "FloatProgressModel",
          "model_module_version": "1.5.0",
          "state": {
            "_dom_classes": [],
            "_model_module": "@jupyter-widgets/controls",
            "_model_module_version": "1.5.0",
            "_model_name": "FloatProgressModel",
            "_view_count": null,
            "_view_module": "@jupyter-widgets/controls",
            "_view_module_version": "1.5.0",
            "_view_name": "ProgressView",
            "bar_style": "info",
            "description": "",
            "description_tooltip": null,
            "layout": "IPY_MODEL_7cd09776a3aa4dfbbd8eb271c6f316b1",
            "max": 1,
            "min": 0,
            "orientation": "horizontal",
            "style": "IPY_MODEL_3031e46d11de49f299f364a8e31a96f5",
            "value": 1
          }
        },
        "58bd6ee574bc43799c295e9a8a0021b2": {
          "model_module": "@jupyter-widgets/controls",
          "model_name": "HTMLModel",
          "model_module_version": "1.5.0",
          "state": {
            "_dom_classes": [],
            "_model_module": "@jupyter-widgets/controls",
            "_model_module_version": "1.5.0",
            "_model_name": "HTMLModel",
            "_view_count": null,
            "_view_module": "@jupyter-widgets/controls",
            "_view_module_version": "1.5.0",
            "_view_name": "HTMLView",
            "description": "",
            "description_tooltip": null,
            "layout": "IPY_MODEL_f9dd028f28eb43f48b2f4eb85f254954",
            "placeholder": "​",
            "style": "IPY_MODEL_31db642d198b4f33911d6e565e776ed8",
            "value": " 4764/4764 [10:59&lt;00:00, 14.82 MiB/s]"
          }
        },
        "72953e628c9f41a1ac00b5e20dd514a0": {
          "model_module": "@jupyter-widgets/base",
          "model_name": "LayoutModel",
          "model_module_version": "1.2.0",
          "state": {
            "_model_module": "@jupyter-widgets/base",
            "_model_module_version": "1.2.0",
            "_model_name": "LayoutModel",
            "_view_count": null,
            "_view_module": "@jupyter-widgets/base",
            "_view_module_version": "1.2.0",
            "_view_name": "LayoutView",
            "align_content": null,
            "align_items": null,
            "align_self": null,
            "border": null,
            "bottom": null,
            "display": null,
            "flex": null,
            "flex_flow": null,
            "grid_area": null,
            "grid_auto_columns": null,
            "grid_auto_flow": null,
            "grid_auto_rows": null,
            "grid_column": null,
            "grid_gap": null,
            "grid_row": null,
            "grid_template_areas": null,
            "grid_template_columns": null,
            "grid_template_rows": null,
            "height": null,
            "justify_content": null,
            "justify_items": null,
            "left": null,
            "margin": null,
            "max_height": null,
            "max_width": null,
            "min_height": null,
            "min_width": null,
            "object_fit": null,
            "object_position": null,
            "order": null,
            "overflow": null,
            "overflow_x": null,
            "overflow_y": null,
            "padding": null,
            "right": null,
            "top": null,
            "visibility": null,
            "width": null
          }
        },
        "0c3a413eaedf41c3afd25958c38d53dc": {
          "model_module": "@jupyter-widgets/base",
          "model_name": "LayoutModel",
          "model_module_version": "1.2.0",
          "state": {
            "_model_module": "@jupyter-widgets/base",
            "_model_module_version": "1.2.0",
            "_model_name": "LayoutModel",
            "_view_count": null,
            "_view_module": "@jupyter-widgets/base",
            "_view_module_version": "1.2.0",
            "_view_name": "LayoutView",
            "align_content": null,
            "align_items": null,
            "align_self": null,
            "border": null,
            "bottom": null,
            "display": null,
            "flex": null,
            "flex_flow": null,
            "grid_area": null,
            "grid_auto_columns": null,
            "grid_auto_flow": null,
            "grid_auto_rows": null,
            "grid_column": null,
            "grid_gap": null,
            "grid_row": null,
            "grid_template_areas": null,
            "grid_template_columns": null,
            "grid_template_rows": null,
            "height": null,
            "justify_content": null,
            "justify_items": null,
            "left": null,
            "margin": null,
            "max_height": null,
            "max_width": null,
            "min_height": null,
            "min_width": null,
            "object_fit": null,
            "object_position": null,
            "order": null,
            "overflow": null,
            "overflow_x": null,
            "overflow_y": null,
            "padding": null,
            "right": null,
            "top": null,
            "visibility": null,
            "width": null
          }
        },
        "1acff524a2ac4f6daf9f8ef048851792": {
          "model_module": "@jupyter-widgets/controls",
          "model_name": "DescriptionStyleModel",
          "model_module_version": "1.5.0",
          "state": {
            "_model_module": "@jupyter-widgets/controls",
            "_model_module_version": "1.5.0",
            "_model_name": "DescriptionStyleModel",
            "_view_count": null,
            "_view_module": "@jupyter-widgets/base",
            "_view_module_version": "1.2.0",
            "_view_name": "StyleView",
            "description_width": ""
          }
        },
        "7cd09776a3aa4dfbbd8eb271c6f316b1": {
          "model_module": "@jupyter-widgets/base",
          "model_name": "LayoutModel",
          "model_module_version": "1.2.0",
          "state": {
            "_model_module": "@jupyter-widgets/base",
            "_model_module_version": "1.2.0",
            "_model_name": "LayoutModel",
            "_view_count": null,
            "_view_module": "@jupyter-widgets/base",
            "_view_module_version": "1.2.0",
            "_view_name": "LayoutView",
            "align_content": null,
            "align_items": null,
            "align_self": null,
            "border": null,
            "bottom": null,
            "display": null,
            "flex": null,
            "flex_flow": null,
            "grid_area": null,
            "grid_auto_columns": null,
            "grid_auto_flow": null,
            "grid_auto_rows": null,
            "grid_column": null,
            "grid_gap": null,
            "grid_row": null,
            "grid_template_areas": null,
            "grid_template_columns": null,
            "grid_template_rows": null,
            "height": null,
            "justify_content": null,
            "justify_items": null,
            "left": null,
            "margin": null,
            "max_height": null,
            "max_width": null,
            "min_height": null,
            "min_width": null,
            "object_fit": null,
            "object_position": null,
            "order": null,
            "overflow": null,
            "overflow_x": null,
            "overflow_y": null,
            "padding": null,
            "right": null,
            "top": null,
            "visibility": null,
            "width": "20px"
          }
        },
        "3031e46d11de49f299f364a8e31a96f5": {
          "model_module": "@jupyter-widgets/controls",
          "model_name": "ProgressStyleModel",
          "model_module_version": "1.5.0",
          "state": {
            "_model_module": "@jupyter-widgets/controls",
            "_model_module_version": "1.5.0",
            "_model_name": "ProgressStyleModel",
            "_view_count": null,
            "_view_module": "@jupyter-widgets/base",
            "_view_module_version": "1.2.0",
            "_view_name": "StyleView",
            "bar_color": null,
            "description_width": ""
          }
        },
        "f9dd028f28eb43f48b2f4eb85f254954": {
          "model_module": "@jupyter-widgets/base",
          "model_name": "LayoutModel",
          "model_module_version": "1.2.0",
          "state": {
            "_model_module": "@jupyter-widgets/base",
            "_model_module_version": "1.2.0",
            "_model_name": "LayoutModel",
            "_view_count": null,
            "_view_module": "@jupyter-widgets/base",
            "_view_module_version": "1.2.0",
            "_view_name": "LayoutView",
            "align_content": null,
            "align_items": null,
            "align_self": null,
            "border": null,
            "bottom": null,
            "display": null,
            "flex": null,
            "flex_flow": null,
            "grid_area": null,
            "grid_auto_columns": null,
            "grid_auto_flow": null,
            "grid_auto_rows": null,
            "grid_column": null,
            "grid_gap": null,
            "grid_row": null,
            "grid_template_areas": null,
            "grid_template_columns": null,
            "grid_template_rows": null,
            "height": null,
            "justify_content": null,
            "justify_items": null,
            "left": null,
            "margin": null,
            "max_height": null,
            "max_width": null,
            "min_height": null,
            "min_width": null,
            "object_fit": null,
            "object_position": null,
            "order": null,
            "overflow": null,
            "overflow_x": null,
            "overflow_y": null,
            "padding": null,
            "right": null,
            "top": null,
            "visibility": null,
            "width": null
          }
        },
        "31db642d198b4f33911d6e565e776ed8": {
          "model_module": "@jupyter-widgets/controls",
          "model_name": "DescriptionStyleModel",
          "model_module_version": "1.5.0",
          "state": {
            "_model_module": "@jupyter-widgets/controls",
            "_model_module_version": "1.5.0",
            "_model_name": "DescriptionStyleModel",
            "_view_count": null,
            "_view_module": "@jupyter-widgets/base",
            "_view_module_version": "1.2.0",
            "_view_name": "StyleView",
            "description_width": ""
          }
        },
        "fafe118839fa44fca92f5ef4a8247d6f": {
          "model_module": "@jupyter-widgets/controls",
          "model_name": "HBoxModel",
          "model_module_version": "1.5.0",
          "state": {
            "_dom_classes": [],
            "_model_module": "@jupyter-widgets/controls",
            "_model_module_version": "1.5.0",
            "_model_name": "HBoxModel",
            "_view_count": null,
            "_view_module": "@jupyter-widgets/controls",
            "_view_module_version": "1.5.0",
            "_view_name": "HBoxView",
            "box_style": "",
            "children": [
              "IPY_MODEL_c46f139670b04d45906f14a31375d418",
              "IPY_MODEL_318d07a2215649c5850cc70a949bf97d",
              "IPY_MODEL_f8690e7ffac54662ae8120757448fee1"
            ],
            "layout": "IPY_MODEL_42abdea914bd4adca3c11833ffad8027"
          }
        },
        "c46f139670b04d45906f14a31375d418": {
          "model_module": "@jupyter-widgets/controls",
          "model_name": "HTMLModel",
          "model_module_version": "1.5.0",
          "state": {
            "_dom_classes": [],
            "_model_module": "@jupyter-widgets/controls",
            "_model_module_version": "1.5.0",
            "_model_name": "HTMLModel",
            "_view_count": null,
            "_view_module": "@jupyter-widgets/controls",
            "_view_module_version": "1.5.0",
            "_view_name": "HTMLView",
            "description": "",
            "description_tooltip": null,
            "layout": "IPY_MODEL_95b94b413c4447b78989e50772ba7f37",
            "placeholder": "​",
            "style": "IPY_MODEL_487d9a6c2c434c148b3cbd6476772339",
            "value": "Extraction completed...: 100%"
          }
        },
        "318d07a2215649c5850cc70a949bf97d": {
          "model_module": "@jupyter-widgets/controls",
          "model_name": "FloatProgressModel",
          "model_module_version": "1.5.0",
          "state": {
            "_dom_classes": [],
            "_model_module": "@jupyter-widgets/controls",
            "_model_module_version": "1.5.0",
            "_model_name": "FloatProgressModel",
            "_view_count": null,
            "_view_module": "@jupyter-widgets/controls",
            "_view_module_version": "1.5.0",
            "_view_name": "ProgressView",
            "bar_style": "info",
            "description": "",
            "description_tooltip": null,
            "layout": "IPY_MODEL_f9b1d8780e1f475a88bc3f5839902420",
            "max": 1,
            "min": 0,
            "orientation": "horizontal",
            "style": "IPY_MODEL_76323b8e7d034392a2fa2c47dcbace55",
            "value": 1
          }
        },
        "f8690e7ffac54662ae8120757448fee1": {
          "model_module": "@jupyter-widgets/controls",
          "model_name": "HTMLModel",
          "model_module_version": "1.5.0",
          "state": {
            "_dom_classes": [],
            "_model_module": "@jupyter-widgets/controls",
            "_model_module_version": "1.5.0",
            "_model_name": "HTMLModel",
            "_view_count": null,
            "_view_module": "@jupyter-widgets/controls",
            "_view_module_version": "1.5.0",
            "_view_name": "HTMLView",
            "description": "",
            "description_tooltip": null,
            "layout": "IPY_MODEL_4047f9f750b742e8a76efc2d16031b1b",
            "placeholder": "​",
            "style": "IPY_MODEL_9113f6eb573b43609d35c49bd2cb596e",
            "value": " 100953/101008 [11:00&lt;00:00, 1110.39 file/s]"
          }
        },
        "42abdea914bd4adca3c11833ffad8027": {
          "model_module": "@jupyter-widgets/base",
          "model_name": "LayoutModel",
          "model_module_version": "1.2.0",
          "state": {
            "_model_module": "@jupyter-widgets/base",
            "_model_module_version": "1.2.0",
            "_model_name": "LayoutModel",
            "_view_count": null,
            "_view_module": "@jupyter-widgets/base",
            "_view_module_version": "1.2.0",
            "_view_name": "LayoutView",
            "align_content": null,
            "align_items": null,
            "align_self": null,
            "border": null,
            "bottom": null,
            "display": null,
            "flex": null,
            "flex_flow": null,
            "grid_area": null,
            "grid_auto_columns": null,
            "grid_auto_flow": null,
            "grid_auto_rows": null,
            "grid_column": null,
            "grid_gap": null,
            "grid_row": null,
            "grid_template_areas": null,
            "grid_template_columns": null,
            "grid_template_rows": null,
            "height": null,
            "justify_content": null,
            "justify_items": null,
            "left": null,
            "margin": null,
            "max_height": null,
            "max_width": null,
            "min_height": null,
            "min_width": null,
            "object_fit": null,
            "object_position": null,
            "order": null,
            "overflow": null,
            "overflow_x": null,
            "overflow_y": null,
            "padding": null,
            "right": null,
            "top": null,
            "visibility": null,
            "width": null
          }
        },
        "95b94b413c4447b78989e50772ba7f37": {
          "model_module": "@jupyter-widgets/base",
          "model_name": "LayoutModel",
          "model_module_version": "1.2.0",
          "state": {
            "_model_module": "@jupyter-widgets/base",
            "_model_module_version": "1.2.0",
            "_model_name": "LayoutModel",
            "_view_count": null,
            "_view_module": "@jupyter-widgets/base",
            "_view_module_version": "1.2.0",
            "_view_name": "LayoutView",
            "align_content": null,
            "align_items": null,
            "align_self": null,
            "border": null,
            "bottom": null,
            "display": null,
            "flex": null,
            "flex_flow": null,
            "grid_area": null,
            "grid_auto_columns": null,
            "grid_auto_flow": null,
            "grid_auto_rows": null,
            "grid_column": null,
            "grid_gap": null,
            "grid_row": null,
            "grid_template_areas": null,
            "grid_template_columns": null,
            "grid_template_rows": null,
            "height": null,
            "justify_content": null,
            "justify_items": null,
            "left": null,
            "margin": null,
            "max_height": null,
            "max_width": null,
            "min_height": null,
            "min_width": null,
            "object_fit": null,
            "object_position": null,
            "order": null,
            "overflow": null,
            "overflow_x": null,
            "overflow_y": null,
            "padding": null,
            "right": null,
            "top": null,
            "visibility": null,
            "width": null
          }
        },
        "487d9a6c2c434c148b3cbd6476772339": {
          "model_module": "@jupyter-widgets/controls",
          "model_name": "DescriptionStyleModel",
          "model_module_version": "1.5.0",
          "state": {
            "_model_module": "@jupyter-widgets/controls",
            "_model_module_version": "1.5.0",
            "_model_name": "DescriptionStyleModel",
            "_view_count": null,
            "_view_module": "@jupyter-widgets/base",
            "_view_module_version": "1.2.0",
            "_view_name": "StyleView",
            "description_width": ""
          }
        },
        "f9b1d8780e1f475a88bc3f5839902420": {
          "model_module": "@jupyter-widgets/base",
          "model_name": "LayoutModel",
          "model_module_version": "1.2.0",
          "state": {
            "_model_module": "@jupyter-widgets/base",
            "_model_module_version": "1.2.0",
            "_model_name": "LayoutModel",
            "_view_count": null,
            "_view_module": "@jupyter-widgets/base",
            "_view_module_version": "1.2.0",
            "_view_name": "LayoutView",
            "align_content": null,
            "align_items": null,
            "align_self": null,
            "border": null,
            "bottom": null,
            "display": null,
            "flex": null,
            "flex_flow": null,
            "grid_area": null,
            "grid_auto_columns": null,
            "grid_auto_flow": null,
            "grid_auto_rows": null,
            "grid_column": null,
            "grid_gap": null,
            "grid_row": null,
            "grid_template_areas": null,
            "grid_template_columns": null,
            "grid_template_rows": null,
            "height": null,
            "justify_content": null,
            "justify_items": null,
            "left": null,
            "margin": null,
            "max_height": null,
            "max_width": null,
            "min_height": null,
            "min_width": null,
            "object_fit": null,
            "object_position": null,
            "order": null,
            "overflow": null,
            "overflow_x": null,
            "overflow_y": null,
            "padding": null,
            "right": null,
            "top": null,
            "visibility": null,
            "width": "20px"
          }
        },
        "76323b8e7d034392a2fa2c47dcbace55": {
          "model_module": "@jupyter-widgets/controls",
          "model_name": "ProgressStyleModel",
          "model_module_version": "1.5.0",
          "state": {
            "_model_module": "@jupyter-widgets/controls",
            "_model_module_version": "1.5.0",
            "_model_name": "ProgressStyleModel",
            "_view_count": null,
            "_view_module": "@jupyter-widgets/base",
            "_view_module_version": "1.2.0",
            "_view_name": "StyleView",
            "bar_color": null,
            "description_width": ""
          }
        },
        "4047f9f750b742e8a76efc2d16031b1b": {
          "model_module": "@jupyter-widgets/base",
          "model_name": "LayoutModel",
          "model_module_version": "1.2.0",
          "state": {
            "_model_module": "@jupyter-widgets/base",
            "_model_module_version": "1.2.0",
            "_model_name": "LayoutModel",
            "_view_count": null,
            "_view_module": "@jupyter-widgets/base",
            "_view_module_version": "1.2.0",
            "_view_name": "LayoutView",
            "align_content": null,
            "align_items": null,
            "align_self": null,
            "border": null,
            "bottom": null,
            "display": null,
            "flex": null,
            "flex_flow": null,
            "grid_area": null,
            "grid_auto_columns": null,
            "grid_auto_flow": null,
            "grid_auto_rows": null,
            "grid_column": null,
            "grid_gap": null,
            "grid_row": null,
            "grid_template_areas": null,
            "grid_template_columns": null,
            "grid_template_rows": null,
            "height": null,
            "justify_content": null,
            "justify_items": null,
            "left": null,
            "margin": null,
            "max_height": null,
            "max_width": null,
            "min_height": null,
            "min_width": null,
            "object_fit": null,
            "object_position": null,
            "order": null,
            "overflow": null,
            "overflow_x": null,
            "overflow_y": null,
            "padding": null,
            "right": null,
            "top": null,
            "visibility": null,
            "width": null
          }
        },
        "9113f6eb573b43609d35c49bd2cb596e": {
          "model_module": "@jupyter-widgets/controls",
          "model_name": "DescriptionStyleModel",
          "model_module_version": "1.5.0",
          "state": {
            "_model_module": "@jupyter-widgets/controls",
            "_model_module_version": "1.5.0",
            "_model_name": "DescriptionStyleModel",
            "_view_count": null,
            "_view_module": "@jupyter-widgets/base",
            "_view_module_version": "1.2.0",
            "_view_name": "StyleView",
            "description_width": ""
          }
        },
        "6eff8aac7f9145179fc1d8bd94967ae1": {
          "model_module": "@jupyter-widgets/controls",
          "model_name": "HBoxModel",
          "model_module_version": "1.5.0",
          "state": {
            "_dom_classes": [],
            "_model_module": "@jupyter-widgets/controls",
            "_model_module_version": "1.5.0",
            "_model_name": "HBoxModel",
            "_view_count": null,
            "_view_module": "@jupyter-widgets/controls",
            "_view_module_version": "1.5.0",
            "_view_name": "HBoxView",
            "box_style": "",
            "children": [
              "IPY_MODEL_07cb01fc21104001a68704889a0f142c",
              "IPY_MODEL_df78a848d1df4f95b4addf215be95434",
              "IPY_MODEL_16718151d03d4e649885041cae4bbb53"
            ],
            "layout": "IPY_MODEL_c3ac1506c645483999c6c1a07204be77"
          }
        },
        "07cb01fc21104001a68704889a0f142c": {
          "model_module": "@jupyter-widgets/controls",
          "model_name": "HTMLModel",
          "model_module_version": "1.5.0",
          "state": {
            "_dom_classes": [],
            "_model_module": "@jupyter-widgets/controls",
            "_model_module_version": "1.5.0",
            "_model_name": "HTMLModel",
            "_view_count": null,
            "_view_module": "@jupyter-widgets/controls",
            "_view_module_version": "1.5.0",
            "_view_name": "HTMLView",
            "description": "",
            "description_tooltip": null,
            "layout": "IPY_MODEL_6aee2050d01841c7a164a65d3d46e2b7",
            "placeholder": "​",
            "style": "IPY_MODEL_17ef12a75d874acd93aa50ce5a20fa9c",
            "value": "Shuffling /root/tensorflow_datasets/food101/2.0.0.incompletePEYN2H/food101-train.tfrecord*...:  99%"
          }
        },
        "df78a848d1df4f95b4addf215be95434": {
          "model_module": "@jupyter-widgets/controls",
          "model_name": "FloatProgressModel",
          "model_module_version": "1.5.0",
          "state": {
            "_dom_classes": [],
            "_model_module": "@jupyter-widgets/controls",
            "_model_module_version": "1.5.0",
            "_model_name": "FloatProgressModel",
            "_view_count": null,
            "_view_module": "@jupyter-widgets/controls",
            "_view_module_version": "1.5.0",
            "_view_name": "ProgressView",
            "bar_style": "",
            "description": "",
            "description_tooltip": null,
            "layout": "IPY_MODEL_b4e8726e53ee4ee09ed15ad407502217",
            "max": 75750,
            "min": 0,
            "orientation": "horizontal",
            "style": "IPY_MODEL_b97d6e8e434f4533b44408a51852a5a2",
            "value": 75750
          }
        },
        "16718151d03d4e649885041cae4bbb53": {
          "model_module": "@jupyter-widgets/controls",
          "model_name": "HTMLModel",
          "model_module_version": "1.5.0",
          "state": {
            "_dom_classes": [],
            "_model_module": "@jupyter-widgets/controls",
            "_model_module_version": "1.5.0",
            "_model_name": "HTMLModel",
            "_view_count": null,
            "_view_module": "@jupyter-widgets/controls",
            "_view_module_version": "1.5.0",
            "_view_name": "HTMLView",
            "description": "",
            "description_tooltip": null,
            "layout": "IPY_MODEL_8517a46ede874107913dbbbcf9ed220b",
            "placeholder": "​",
            "style": "IPY_MODEL_a3e47bcdca1e4a4abda71bdaee2bd00d",
            "value": " 75368/75750 [00:38&lt;00:00, 3164.77 examples/s]"
          }
        },
        "c3ac1506c645483999c6c1a07204be77": {
          "model_module": "@jupyter-widgets/base",
          "model_name": "LayoutModel",
          "model_module_version": "1.2.0",
          "state": {
            "_model_module": "@jupyter-widgets/base",
            "_model_module_version": "1.2.0",
            "_model_name": "LayoutModel",
            "_view_count": null,
            "_view_module": "@jupyter-widgets/base",
            "_view_module_version": "1.2.0",
            "_view_name": "LayoutView",
            "align_content": null,
            "align_items": null,
            "align_self": null,
            "border": null,
            "bottom": null,
            "display": null,
            "flex": null,
            "flex_flow": null,
            "grid_area": null,
            "grid_auto_columns": null,
            "grid_auto_flow": null,
            "grid_auto_rows": null,
            "grid_column": null,
            "grid_gap": null,
            "grid_row": null,
            "grid_template_areas": null,
            "grid_template_columns": null,
            "grid_template_rows": null,
            "height": null,
            "justify_content": null,
            "justify_items": null,
            "left": null,
            "margin": null,
            "max_height": null,
            "max_width": null,
            "min_height": null,
            "min_width": null,
            "object_fit": null,
            "object_position": null,
            "order": null,
            "overflow": null,
            "overflow_x": null,
            "overflow_y": null,
            "padding": null,
            "right": null,
            "top": null,
            "visibility": "hidden",
            "width": null
          }
        },
        "6aee2050d01841c7a164a65d3d46e2b7": {
          "model_module": "@jupyter-widgets/base",
          "model_name": "LayoutModel",
          "model_module_version": "1.2.0",
          "state": {
            "_model_module": "@jupyter-widgets/base",
            "_model_module_version": "1.2.0",
            "_model_name": "LayoutModel",
            "_view_count": null,
            "_view_module": "@jupyter-widgets/base",
            "_view_module_version": "1.2.0",
            "_view_name": "LayoutView",
            "align_content": null,
            "align_items": null,
            "align_self": null,
            "border": null,
            "bottom": null,
            "display": null,
            "flex": null,
            "flex_flow": null,
            "grid_area": null,
            "grid_auto_columns": null,
            "grid_auto_flow": null,
            "grid_auto_rows": null,
            "grid_column": null,
            "grid_gap": null,
            "grid_row": null,
            "grid_template_areas": null,
            "grid_template_columns": null,
            "grid_template_rows": null,
            "height": null,
            "justify_content": null,
            "justify_items": null,
            "left": null,
            "margin": null,
            "max_height": null,
            "max_width": null,
            "min_height": null,
            "min_width": null,
            "object_fit": null,
            "object_position": null,
            "order": null,
            "overflow": null,
            "overflow_x": null,
            "overflow_y": null,
            "padding": null,
            "right": null,
            "top": null,
            "visibility": null,
            "width": null
          }
        },
        "17ef12a75d874acd93aa50ce5a20fa9c": {
          "model_module": "@jupyter-widgets/controls",
          "model_name": "DescriptionStyleModel",
          "model_module_version": "1.5.0",
          "state": {
            "_model_module": "@jupyter-widgets/controls",
            "_model_module_version": "1.5.0",
            "_model_name": "DescriptionStyleModel",
            "_view_count": null,
            "_view_module": "@jupyter-widgets/base",
            "_view_module_version": "1.2.0",
            "_view_name": "StyleView",
            "description_width": ""
          }
        },
        "b4e8726e53ee4ee09ed15ad407502217": {
          "model_module": "@jupyter-widgets/base",
          "model_name": "LayoutModel",
          "model_module_version": "1.2.0",
          "state": {
            "_model_module": "@jupyter-widgets/base",
            "_model_module_version": "1.2.0",
            "_model_name": "LayoutModel",
            "_view_count": null,
            "_view_module": "@jupyter-widgets/base",
            "_view_module_version": "1.2.0",
            "_view_name": "LayoutView",
            "align_content": null,
            "align_items": null,
            "align_self": null,
            "border": null,
            "bottom": null,
            "display": null,
            "flex": null,
            "flex_flow": null,
            "grid_area": null,
            "grid_auto_columns": null,
            "grid_auto_flow": null,
            "grid_auto_rows": null,
            "grid_column": null,
            "grid_gap": null,
            "grid_row": null,
            "grid_template_areas": null,
            "grid_template_columns": null,
            "grid_template_rows": null,
            "height": null,
            "justify_content": null,
            "justify_items": null,
            "left": null,
            "margin": null,
            "max_height": null,
            "max_width": null,
            "min_height": null,
            "min_width": null,
            "object_fit": null,
            "object_position": null,
            "order": null,
            "overflow": null,
            "overflow_x": null,
            "overflow_y": null,
            "padding": null,
            "right": null,
            "top": null,
            "visibility": null,
            "width": null
          }
        },
        "b97d6e8e434f4533b44408a51852a5a2": {
          "model_module": "@jupyter-widgets/controls",
          "model_name": "ProgressStyleModel",
          "model_module_version": "1.5.0",
          "state": {
            "_model_module": "@jupyter-widgets/controls",
            "_model_module_version": "1.5.0",
            "_model_name": "ProgressStyleModel",
            "_view_count": null,
            "_view_module": "@jupyter-widgets/base",
            "_view_module_version": "1.2.0",
            "_view_name": "StyleView",
            "bar_color": null,
            "description_width": ""
          }
        },
        "8517a46ede874107913dbbbcf9ed220b": {
          "model_module": "@jupyter-widgets/base",
          "model_name": "LayoutModel",
          "model_module_version": "1.2.0",
          "state": {
            "_model_module": "@jupyter-widgets/base",
            "_model_module_version": "1.2.0",
            "_model_name": "LayoutModel",
            "_view_count": null,
            "_view_module": "@jupyter-widgets/base",
            "_view_module_version": "1.2.0",
            "_view_name": "LayoutView",
            "align_content": null,
            "align_items": null,
            "align_self": null,
            "border": null,
            "bottom": null,
            "display": null,
            "flex": null,
            "flex_flow": null,
            "grid_area": null,
            "grid_auto_columns": null,
            "grid_auto_flow": null,
            "grid_auto_rows": null,
            "grid_column": null,
            "grid_gap": null,
            "grid_row": null,
            "grid_template_areas": null,
            "grid_template_columns": null,
            "grid_template_rows": null,
            "height": null,
            "justify_content": null,
            "justify_items": null,
            "left": null,
            "margin": null,
            "max_height": null,
            "max_width": null,
            "min_height": null,
            "min_width": null,
            "object_fit": null,
            "object_position": null,
            "order": null,
            "overflow": null,
            "overflow_x": null,
            "overflow_y": null,
            "padding": null,
            "right": null,
            "top": null,
            "visibility": null,
            "width": null
          }
        },
        "a3e47bcdca1e4a4abda71bdaee2bd00d": {
          "model_module": "@jupyter-widgets/controls",
          "model_name": "DescriptionStyleModel",
          "model_module_version": "1.5.0",
          "state": {
            "_model_module": "@jupyter-widgets/controls",
            "_model_module_version": "1.5.0",
            "_model_name": "DescriptionStyleModel",
            "_view_count": null,
            "_view_module": "@jupyter-widgets/base",
            "_view_module_version": "1.2.0",
            "_view_name": "StyleView",
            "description_width": ""
          }
        },
        "54a41074b8c94a6bb66a4e1465208018": {
          "model_module": "@jupyter-widgets/controls",
          "model_name": "HBoxModel",
          "model_module_version": "1.5.0",
          "state": {
            "_dom_classes": [],
            "_model_module": "@jupyter-widgets/controls",
            "_model_module_version": "1.5.0",
            "_model_name": "HBoxModel",
            "_view_count": null,
            "_view_module": "@jupyter-widgets/controls",
            "_view_module_version": "1.5.0",
            "_view_name": "HBoxView",
            "box_style": "",
            "children": [
              "IPY_MODEL_754e24769b2a4c798c53851b5cf46bed",
              "IPY_MODEL_d20725add8544f92904793a411b3153d",
              "IPY_MODEL_c78357191509404187b8e4722d963d6c"
            ],
            "layout": "IPY_MODEL_d2f8fadab9c449659339bb54703fbe42"
          }
        },
        "754e24769b2a4c798c53851b5cf46bed": {
          "model_module": "@jupyter-widgets/controls",
          "model_name": "HTMLModel",
          "model_module_version": "1.5.0",
          "state": {
            "_dom_classes": [],
            "_model_module": "@jupyter-widgets/controls",
            "_model_module_version": "1.5.0",
            "_model_name": "HTMLModel",
            "_view_count": null,
            "_view_module": "@jupyter-widgets/controls",
            "_view_module_version": "1.5.0",
            "_view_name": "HTMLView",
            "description": "",
            "description_tooltip": null,
            "layout": "IPY_MODEL_bc6f690c66b0437fa38fb6dfde30085b",
            "placeholder": "​",
            "style": "IPY_MODEL_5ed37eac4e6640dcbf6244c006e7a2af",
            "value": "Generating validation examples...: 100%"
          }
        },
        "d20725add8544f92904793a411b3153d": {
          "model_module": "@jupyter-widgets/controls",
          "model_name": "FloatProgressModel",
          "model_module_version": "1.5.0",
          "state": {
            "_dom_classes": [],
            "_model_module": "@jupyter-widgets/controls",
            "_model_module_version": "1.5.0",
            "_model_name": "FloatProgressModel",
            "_view_count": null,
            "_view_module": "@jupyter-widgets/controls",
            "_view_module_version": "1.5.0",
            "_view_name": "ProgressView",
            "bar_style": "",
            "description": "",
            "description_tooltip": null,
            "layout": "IPY_MODEL_19afbef7c698491aa48e6d6c82efdd10",
            "max": 25250,
            "min": 0,
            "orientation": "horizontal",
            "style": "IPY_MODEL_787285bc8f3642cba17d5951264f093d",
            "value": 25250
          }
        },
        "c78357191509404187b8e4722d963d6c": {
          "model_module": "@jupyter-widgets/controls",
          "model_name": "HTMLModel",
          "model_module_version": "1.5.0",
          "state": {
            "_dom_classes": [],
            "_model_module": "@jupyter-widgets/controls",
            "_model_module_version": "1.5.0",
            "_model_name": "HTMLModel",
            "_view_count": null,
            "_view_module": "@jupyter-widgets/controls",
            "_view_module_version": "1.5.0",
            "_view_name": "HTMLView",
            "description": "",
            "description_tooltip": null,
            "layout": "IPY_MODEL_8d46e71d0c19448abcfefb909e32fa60",
            "placeholder": "​",
            "style": "IPY_MODEL_98ec43047edc413d871cbb9f8768cc1e",
            "value": " 25241/25250 [00:49&lt;00:00, 578.46 examples/s]"
          }
        },
        "d2f8fadab9c449659339bb54703fbe42": {
          "model_module": "@jupyter-widgets/base",
          "model_name": "LayoutModel",
          "model_module_version": "1.2.0",
          "state": {
            "_model_module": "@jupyter-widgets/base",
            "_model_module_version": "1.2.0",
            "_model_name": "LayoutModel",
            "_view_count": null,
            "_view_module": "@jupyter-widgets/base",
            "_view_module_version": "1.2.0",
            "_view_name": "LayoutView",
            "align_content": null,
            "align_items": null,
            "align_self": null,
            "border": null,
            "bottom": null,
            "display": null,
            "flex": null,
            "flex_flow": null,
            "grid_area": null,
            "grid_auto_columns": null,
            "grid_auto_flow": null,
            "grid_auto_rows": null,
            "grid_column": null,
            "grid_gap": null,
            "grid_row": null,
            "grid_template_areas": null,
            "grid_template_columns": null,
            "grid_template_rows": null,
            "height": null,
            "justify_content": null,
            "justify_items": null,
            "left": null,
            "margin": null,
            "max_height": null,
            "max_width": null,
            "min_height": null,
            "min_width": null,
            "object_fit": null,
            "object_position": null,
            "order": null,
            "overflow": null,
            "overflow_x": null,
            "overflow_y": null,
            "padding": null,
            "right": null,
            "top": null,
            "visibility": "hidden",
            "width": null
          }
        },
        "bc6f690c66b0437fa38fb6dfde30085b": {
          "model_module": "@jupyter-widgets/base",
          "model_name": "LayoutModel",
          "model_module_version": "1.2.0",
          "state": {
            "_model_module": "@jupyter-widgets/base",
            "_model_module_version": "1.2.0",
            "_model_name": "LayoutModel",
            "_view_count": null,
            "_view_module": "@jupyter-widgets/base",
            "_view_module_version": "1.2.0",
            "_view_name": "LayoutView",
            "align_content": null,
            "align_items": null,
            "align_self": null,
            "border": null,
            "bottom": null,
            "display": null,
            "flex": null,
            "flex_flow": null,
            "grid_area": null,
            "grid_auto_columns": null,
            "grid_auto_flow": null,
            "grid_auto_rows": null,
            "grid_column": null,
            "grid_gap": null,
            "grid_row": null,
            "grid_template_areas": null,
            "grid_template_columns": null,
            "grid_template_rows": null,
            "height": null,
            "justify_content": null,
            "justify_items": null,
            "left": null,
            "margin": null,
            "max_height": null,
            "max_width": null,
            "min_height": null,
            "min_width": null,
            "object_fit": null,
            "object_position": null,
            "order": null,
            "overflow": null,
            "overflow_x": null,
            "overflow_y": null,
            "padding": null,
            "right": null,
            "top": null,
            "visibility": null,
            "width": null
          }
        },
        "5ed37eac4e6640dcbf6244c006e7a2af": {
          "model_module": "@jupyter-widgets/controls",
          "model_name": "DescriptionStyleModel",
          "model_module_version": "1.5.0",
          "state": {
            "_model_module": "@jupyter-widgets/controls",
            "_model_module_version": "1.5.0",
            "_model_name": "DescriptionStyleModel",
            "_view_count": null,
            "_view_module": "@jupyter-widgets/base",
            "_view_module_version": "1.2.0",
            "_view_name": "StyleView",
            "description_width": ""
          }
        },
        "19afbef7c698491aa48e6d6c82efdd10": {
          "model_module": "@jupyter-widgets/base",
          "model_name": "LayoutModel",
          "model_module_version": "1.2.0",
          "state": {
            "_model_module": "@jupyter-widgets/base",
            "_model_module_version": "1.2.0",
            "_model_name": "LayoutModel",
            "_view_count": null,
            "_view_module": "@jupyter-widgets/base",
            "_view_module_version": "1.2.0",
            "_view_name": "LayoutView",
            "align_content": null,
            "align_items": null,
            "align_self": null,
            "border": null,
            "bottom": null,
            "display": null,
            "flex": null,
            "flex_flow": null,
            "grid_area": null,
            "grid_auto_columns": null,
            "grid_auto_flow": null,
            "grid_auto_rows": null,
            "grid_column": null,
            "grid_gap": null,
            "grid_row": null,
            "grid_template_areas": null,
            "grid_template_columns": null,
            "grid_template_rows": null,
            "height": null,
            "justify_content": null,
            "justify_items": null,
            "left": null,
            "margin": null,
            "max_height": null,
            "max_width": null,
            "min_height": null,
            "min_width": null,
            "object_fit": null,
            "object_position": null,
            "order": null,
            "overflow": null,
            "overflow_x": null,
            "overflow_y": null,
            "padding": null,
            "right": null,
            "top": null,
            "visibility": null,
            "width": null
          }
        },
        "787285bc8f3642cba17d5951264f093d": {
          "model_module": "@jupyter-widgets/controls",
          "model_name": "ProgressStyleModel",
          "model_module_version": "1.5.0",
          "state": {
            "_model_module": "@jupyter-widgets/controls",
            "_model_module_version": "1.5.0",
            "_model_name": "ProgressStyleModel",
            "_view_count": null,
            "_view_module": "@jupyter-widgets/base",
            "_view_module_version": "1.2.0",
            "_view_name": "StyleView",
            "bar_color": null,
            "description_width": ""
          }
        },
        "8d46e71d0c19448abcfefb909e32fa60": {
          "model_module": "@jupyter-widgets/base",
          "model_name": "LayoutModel",
          "model_module_version": "1.2.0",
          "state": {
            "_model_module": "@jupyter-widgets/base",
            "_model_module_version": "1.2.0",
            "_model_name": "LayoutModel",
            "_view_count": null,
            "_view_module": "@jupyter-widgets/base",
            "_view_module_version": "1.2.0",
            "_view_name": "LayoutView",
            "align_content": null,
            "align_items": null,
            "align_self": null,
            "border": null,
            "bottom": null,
            "display": null,
            "flex": null,
            "flex_flow": null,
            "grid_area": null,
            "grid_auto_columns": null,
            "grid_auto_flow": null,
            "grid_auto_rows": null,
            "grid_column": null,
            "grid_gap": null,
            "grid_row": null,
            "grid_template_areas": null,
            "grid_template_columns": null,
            "grid_template_rows": null,
            "height": null,
            "justify_content": null,
            "justify_items": null,
            "left": null,
            "margin": null,
            "max_height": null,
            "max_width": null,
            "min_height": null,
            "min_width": null,
            "object_fit": null,
            "object_position": null,
            "order": null,
            "overflow": null,
            "overflow_x": null,
            "overflow_y": null,
            "padding": null,
            "right": null,
            "top": null,
            "visibility": null,
            "width": null
          }
        },
        "98ec43047edc413d871cbb9f8768cc1e": {
          "model_module": "@jupyter-widgets/controls",
          "model_name": "DescriptionStyleModel",
          "model_module_version": "1.5.0",
          "state": {
            "_model_module": "@jupyter-widgets/controls",
            "_model_module_version": "1.5.0",
            "_model_name": "DescriptionStyleModel",
            "_view_count": null,
            "_view_module": "@jupyter-widgets/base",
            "_view_module_version": "1.2.0",
            "_view_name": "StyleView",
            "description_width": ""
          }
        },
        "aca2d4f537df49f38451e0c2c68d0b7a": {
          "model_module": "@jupyter-widgets/controls",
          "model_name": "HBoxModel",
          "model_module_version": "1.5.0",
          "state": {
            "_dom_classes": [],
            "_model_module": "@jupyter-widgets/controls",
            "_model_module_version": "1.5.0",
            "_model_name": "HBoxModel",
            "_view_count": null,
            "_view_module": "@jupyter-widgets/controls",
            "_view_module_version": "1.5.0",
            "_view_name": "HBoxView",
            "box_style": "",
            "children": [
              "IPY_MODEL_d80ebe5cd780473d83221f4b5c3232da",
              "IPY_MODEL_ba040fea5d6940ea920e5c2aff43a090",
              "IPY_MODEL_1bb4660385ec41afb4a88cad0d29463f"
            ],
            "layout": "IPY_MODEL_b76387928758494487294949122b6f5a"
          }
        },
        "d80ebe5cd780473d83221f4b5c3232da": {
          "model_module": "@jupyter-widgets/controls",
          "model_name": "HTMLModel",
          "model_module_version": "1.5.0",
          "state": {
            "_dom_classes": [],
            "_model_module": "@jupyter-widgets/controls",
            "_model_module_version": "1.5.0",
            "_model_name": "HTMLModel",
            "_view_count": null,
            "_view_module": "@jupyter-widgets/controls",
            "_view_module_version": "1.5.0",
            "_view_name": "HTMLView",
            "description": "",
            "description_tooltip": null,
            "layout": "IPY_MODEL_829196a50f4a420e819aef9701874ce7",
            "placeholder": "​",
            "style": "IPY_MODEL_9d0a2dbced7e4ed9b8fe451ade07ccc6",
            "value": "Shuffling /root/tensorflow_datasets/food101/2.0.0.incompletePEYN2H/food101-validation.tfrecord*...:  99%"
          }
        },
        "ba040fea5d6940ea920e5c2aff43a090": {
          "model_module": "@jupyter-widgets/controls",
          "model_name": "FloatProgressModel",
          "model_module_version": "1.5.0",
          "state": {
            "_dom_classes": [],
            "_model_module": "@jupyter-widgets/controls",
            "_model_module_version": "1.5.0",
            "_model_name": "FloatProgressModel",
            "_view_count": null,
            "_view_module": "@jupyter-widgets/controls",
            "_view_module_version": "1.5.0",
            "_view_name": "ProgressView",
            "bar_style": "",
            "description": "",
            "description_tooltip": null,
            "layout": "IPY_MODEL_1ddc0a2725cc4785b0362ae8d7c2810f",
            "max": 25250,
            "min": 0,
            "orientation": "horizontal",
            "style": "IPY_MODEL_fef678deb201496886302d2ef36e68b8",
            "value": 25250
          }
        },
        "1bb4660385ec41afb4a88cad0d29463f": {
          "model_module": "@jupyter-widgets/controls",
          "model_name": "HTMLModel",
          "model_module_version": "1.5.0",
          "state": {
            "_dom_classes": [],
            "_model_module": "@jupyter-widgets/controls",
            "_model_module_version": "1.5.0",
            "_model_name": "HTMLModel",
            "_view_count": null,
            "_view_module": "@jupyter-widgets/controls",
            "_view_module_version": "1.5.0",
            "_view_name": "HTMLView",
            "description": "",
            "description_tooltip": null,
            "layout": "IPY_MODEL_1836e900b98b4d80a90182bcff8c4638",
            "placeholder": "​",
            "style": "IPY_MODEL_82424471bb3b47b6ad415c5c9ba50084",
            "value": " 25042/25250 [00:04&lt;00:00, 5010.23 examples/s]"
          }
        },
        "b76387928758494487294949122b6f5a": {
          "model_module": "@jupyter-widgets/base",
          "model_name": "LayoutModel",
          "model_module_version": "1.2.0",
          "state": {
            "_model_module": "@jupyter-widgets/base",
            "_model_module_version": "1.2.0",
            "_model_name": "LayoutModel",
            "_view_count": null,
            "_view_module": "@jupyter-widgets/base",
            "_view_module_version": "1.2.0",
            "_view_name": "LayoutView",
            "align_content": null,
            "align_items": null,
            "align_self": null,
            "border": null,
            "bottom": null,
            "display": null,
            "flex": null,
            "flex_flow": null,
            "grid_area": null,
            "grid_auto_columns": null,
            "grid_auto_flow": null,
            "grid_auto_rows": null,
            "grid_column": null,
            "grid_gap": null,
            "grid_row": null,
            "grid_template_areas": null,
            "grid_template_columns": null,
            "grid_template_rows": null,
            "height": null,
            "justify_content": null,
            "justify_items": null,
            "left": null,
            "margin": null,
            "max_height": null,
            "max_width": null,
            "min_height": null,
            "min_width": null,
            "object_fit": null,
            "object_position": null,
            "order": null,
            "overflow": null,
            "overflow_x": null,
            "overflow_y": null,
            "padding": null,
            "right": null,
            "top": null,
            "visibility": "hidden",
            "width": null
          }
        },
        "829196a50f4a420e819aef9701874ce7": {
          "model_module": "@jupyter-widgets/base",
          "model_name": "LayoutModel",
          "model_module_version": "1.2.0",
          "state": {
            "_model_module": "@jupyter-widgets/base",
            "_model_module_version": "1.2.0",
            "_model_name": "LayoutModel",
            "_view_count": null,
            "_view_module": "@jupyter-widgets/base",
            "_view_module_version": "1.2.0",
            "_view_name": "LayoutView",
            "align_content": null,
            "align_items": null,
            "align_self": null,
            "border": null,
            "bottom": null,
            "display": null,
            "flex": null,
            "flex_flow": null,
            "grid_area": null,
            "grid_auto_columns": null,
            "grid_auto_flow": null,
            "grid_auto_rows": null,
            "grid_column": null,
            "grid_gap": null,
            "grid_row": null,
            "grid_template_areas": null,
            "grid_template_columns": null,
            "grid_template_rows": null,
            "height": null,
            "justify_content": null,
            "justify_items": null,
            "left": null,
            "margin": null,
            "max_height": null,
            "max_width": null,
            "min_height": null,
            "min_width": null,
            "object_fit": null,
            "object_position": null,
            "order": null,
            "overflow": null,
            "overflow_x": null,
            "overflow_y": null,
            "padding": null,
            "right": null,
            "top": null,
            "visibility": null,
            "width": null
          }
        },
        "9d0a2dbced7e4ed9b8fe451ade07ccc6": {
          "model_module": "@jupyter-widgets/controls",
          "model_name": "DescriptionStyleModel",
          "model_module_version": "1.5.0",
          "state": {
            "_model_module": "@jupyter-widgets/controls",
            "_model_module_version": "1.5.0",
            "_model_name": "DescriptionStyleModel",
            "_view_count": null,
            "_view_module": "@jupyter-widgets/base",
            "_view_module_version": "1.2.0",
            "_view_name": "StyleView",
            "description_width": ""
          }
        },
        "1ddc0a2725cc4785b0362ae8d7c2810f": {
          "model_module": "@jupyter-widgets/base",
          "model_name": "LayoutModel",
          "model_module_version": "1.2.0",
          "state": {
            "_model_module": "@jupyter-widgets/base",
            "_model_module_version": "1.2.0",
            "_model_name": "LayoutModel",
            "_view_count": null,
            "_view_module": "@jupyter-widgets/base",
            "_view_module_version": "1.2.0",
            "_view_name": "LayoutView",
            "align_content": null,
            "align_items": null,
            "align_self": null,
            "border": null,
            "bottom": null,
            "display": null,
            "flex": null,
            "flex_flow": null,
            "grid_area": null,
            "grid_auto_columns": null,
            "grid_auto_flow": null,
            "grid_auto_rows": null,
            "grid_column": null,
            "grid_gap": null,
            "grid_row": null,
            "grid_template_areas": null,
            "grid_template_columns": null,
            "grid_template_rows": null,
            "height": null,
            "justify_content": null,
            "justify_items": null,
            "left": null,
            "margin": null,
            "max_height": null,
            "max_width": null,
            "min_height": null,
            "min_width": null,
            "object_fit": null,
            "object_position": null,
            "order": null,
            "overflow": null,
            "overflow_x": null,
            "overflow_y": null,
            "padding": null,
            "right": null,
            "top": null,
            "visibility": null,
            "width": null
          }
        },
        "fef678deb201496886302d2ef36e68b8": {
          "model_module": "@jupyter-widgets/controls",
          "model_name": "ProgressStyleModel",
          "model_module_version": "1.5.0",
          "state": {
            "_model_module": "@jupyter-widgets/controls",
            "_model_module_version": "1.5.0",
            "_model_name": "ProgressStyleModel",
            "_view_count": null,
            "_view_module": "@jupyter-widgets/base",
            "_view_module_version": "1.2.0",
            "_view_name": "StyleView",
            "bar_color": null,
            "description_width": ""
          }
        },
        "1836e900b98b4d80a90182bcff8c4638": {
          "model_module": "@jupyter-widgets/base",
          "model_name": "LayoutModel",
          "model_module_version": "1.2.0",
          "state": {
            "_model_module": "@jupyter-widgets/base",
            "_model_module_version": "1.2.0",
            "_model_name": "LayoutModel",
            "_view_count": null,
            "_view_module": "@jupyter-widgets/base",
            "_view_module_version": "1.2.0",
            "_view_name": "LayoutView",
            "align_content": null,
            "align_items": null,
            "align_self": null,
            "border": null,
            "bottom": null,
            "display": null,
            "flex": null,
            "flex_flow": null,
            "grid_area": null,
            "grid_auto_columns": null,
            "grid_auto_flow": null,
            "grid_auto_rows": null,
            "grid_column": null,
            "grid_gap": null,
            "grid_row": null,
            "grid_template_areas": null,
            "grid_template_columns": null,
            "grid_template_rows": null,
            "height": null,
            "justify_content": null,
            "justify_items": null,
            "left": null,
            "margin": null,
            "max_height": null,
            "max_width": null,
            "min_height": null,
            "min_width": null,
            "object_fit": null,
            "object_position": null,
            "order": null,
            "overflow": null,
            "overflow_x": null,
            "overflow_y": null,
            "padding": null,
            "right": null,
            "top": null,
            "visibility": null,
            "width": null
          }
        },
        "82424471bb3b47b6ad415c5c9ba50084": {
          "model_module": "@jupyter-widgets/controls",
          "model_name": "DescriptionStyleModel",
          "model_module_version": "1.5.0",
          "state": {
            "_model_module": "@jupyter-widgets/controls",
            "_model_module_version": "1.5.0",
            "_model_name": "DescriptionStyleModel",
            "_view_count": null,
            "_view_module": "@jupyter-widgets/base",
            "_view_module_version": "1.2.0",
            "_view_name": "StyleView",
            "description_width": ""
          }
        }
      }
    }
  },
  "cells": [
    {
      "cell_type": "markdown",
      "metadata": {
        "id": "view-in-github",
        "colab_type": "text"
      },
      "source": [
        "<a href=\"https://colab.research.google.com/github/greygrease/Project-FoodNet/blob/main/TFDC_Foodnet.ipynb\" target=\"_parent\"><img src=\"https://colab.research.google.com/assets/colab-badge.svg\" alt=\"Open In Colab\"/></a>"
      ]
    },
    {
      "cell_type": "code",
      "execution_count": null,
      "metadata": {
        "colab": {
          "base_uri": "https://localhost:8080/"
        },
        "id": "3ylq5cz798Yy",
        "outputId": "05472e2f-7b39-4a9c-f975-9d405a547a1c"
      },
      "outputs": [
        {
          "output_type": "stream",
          "name": "stdout",
          "text": [
            "GPU 0: Tesla T4 (UUID: GPU-29a1e18d-4d3c-4f9f-3512-9a2ad067fadc)\n"
          ]
        }
      ],
      "source": [
        "#Check GPU\n",
        "!nvidia-smi -L"
      ]
    },
    {
      "cell_type": "code",
      "source": [
        "# Download helper functions\n",
        "!wget https://raw.githubusercontent.com/mrdbourke/tensorflow-deep-learning/main/extras/helper_functions.py\n"
      ],
      "metadata": {
        "colab": {
          "base_uri": "https://localhost:8080/"
        },
        "id": "Bg32euzN-0lC",
        "outputId": "f3cff9e2-1e8e-4a32-f156-7ccce4ca1a3f"
      },
      "execution_count": null,
      "outputs": [
        {
          "output_type": "stream",
          "name": "stdout",
          "text": [
            "--2023-07-04 12:50:32--  https://raw.githubusercontent.com/mrdbourke/tensorflow-deep-learning/main/extras/helper_functions.py\n",
            "Resolving raw.githubusercontent.com (raw.githubusercontent.com)... 185.199.108.133, 185.199.109.133, 185.199.110.133, ...\n",
            "Connecting to raw.githubusercontent.com (raw.githubusercontent.com)|185.199.108.133|:443... connected.\n",
            "HTTP request sent, awaiting response... 200 OK\n",
            "Length: 10246 (10K) [text/plain]\n",
            "Saving to: ‘helper_functions.py’\n",
            "\n",
            "helper_functions.py 100%[===================>]  10.01K  --.-KB/s    in 0s      \n",
            "\n",
            "2023-07-04 12:50:32 (106 MB/s) - ‘helper_functions.py’ saved [10246/10246]\n",
            "\n"
          ]
        }
      ]
    },
    {
      "cell_type": "code",
      "source": [
        "from helper_functions import create_tensorboard_callback, plot_loss_curves, compare_historys"
      ],
      "metadata": {
        "id": "SxyEF1zJ_M-P"
      },
      "execution_count": null,
      "outputs": []
    },
    {
      "cell_type": "markdown",
      "source": [
        "## Use TF Datasets to Download Data"
      ],
      "metadata": {
        "id": "Amj3RWOh_Y6v"
      }
    },
    {
      "cell_type": "code",
      "source": [
        "import tensorflow_datasets as tfds\n",
        "\n",
        "\n",
        "datasets_list = tfds.list_builders()\n",
        "print('food101' in datasets_list)"
      ],
      "metadata": {
        "colab": {
          "base_uri": "https://localhost:8080/"
        },
        "id": "BKXx2MBM_q8Z",
        "outputId": "12f69e4f-f7fd-43ed-deb3-da6fa0881117"
      },
      "execution_count": null,
      "outputs": [
        {
          "output_type": "stream",
          "name": "stdout",
          "text": [
            "True\n"
          ]
        }
      ]
    },
    {
      "cell_type": "code",
      "source": [
        "from traitlets.config.application import TRAITLETS_APPLICATION_RAISE_CONFIG_FILE_ERROR\n",
        "# Load in the data\n",
        "\n",
        "\n",
        "(train_data, test_data), ds_info = tfds.load(name = 'food101',\n",
        "                                             split = ['train', 'validation'],\n",
        "                                             shuffle_files = True,\n",
        "                                             as_supervised = True,\n",
        "                                             with_info = True)"
      ],
      "metadata": {
        "id": "NZlsw3jR_20G",
        "colab": {
          "base_uri": "https://localhost:8080/",
          "height": 148,
          "referenced_widgets": [
            "fefc427568e54dd485ed350713b8fd6b",
            "e45840a9efd443989ea75a9d8b7af2e4",
            "d1574269bb454fbfaa84959c7c6c788a",
            "3cc3e43f56f248d1b86565f21be096d9",
            "a0c326a1ce734ae19f2568e07e7816ff",
            "b604da6e435d4c91a8d58cc44056b5ca",
            "9cf74d831dde4e618ebab99eab0dbc46",
            "6915542f02604e718372338ad0bc8e97",
            "6f48c6e3a8294fc58295952fe2a02dfb",
            "9e251a8538ce4354abd2c570eaac827b",
            "7ed1cade84f04e5cb7bf23cf5eca3385",
            "4d3859569676466aaec242d2639a39bf",
            "68888c00efde49f885d799dd6f60fe2e",
            "358b031992b748f49dd0015a5d7e9599",
            "58bd6ee574bc43799c295e9a8a0021b2",
            "72953e628c9f41a1ac00b5e20dd514a0",
            "0c3a413eaedf41c3afd25958c38d53dc",
            "1acff524a2ac4f6daf9f8ef048851792",
            "7cd09776a3aa4dfbbd8eb271c6f316b1",
            "3031e46d11de49f299f364a8e31a96f5",
            "f9dd028f28eb43f48b2f4eb85f254954",
            "31db642d198b4f33911d6e565e776ed8",
            "fafe118839fa44fca92f5ef4a8247d6f",
            "c46f139670b04d45906f14a31375d418",
            "318d07a2215649c5850cc70a949bf97d",
            "f8690e7ffac54662ae8120757448fee1",
            "42abdea914bd4adca3c11833ffad8027",
            "95b94b413c4447b78989e50772ba7f37",
            "487d9a6c2c434c148b3cbd6476772339",
            "f9b1d8780e1f475a88bc3f5839902420",
            "76323b8e7d034392a2fa2c47dcbace55",
            "4047f9f750b742e8a76efc2d16031b1b",
            "9113f6eb573b43609d35c49bd2cb596e",
            "6eff8aac7f9145179fc1d8bd94967ae1",
            "07cb01fc21104001a68704889a0f142c",
            "df78a848d1df4f95b4addf215be95434",
            "16718151d03d4e649885041cae4bbb53",
            "c3ac1506c645483999c6c1a07204be77",
            "6aee2050d01841c7a164a65d3d46e2b7",
            "17ef12a75d874acd93aa50ce5a20fa9c",
            "b4e8726e53ee4ee09ed15ad407502217",
            "b97d6e8e434f4533b44408a51852a5a2",
            "8517a46ede874107913dbbbcf9ed220b",
            "a3e47bcdca1e4a4abda71bdaee2bd00d",
            "54a41074b8c94a6bb66a4e1465208018",
            "754e24769b2a4c798c53851b5cf46bed",
            "d20725add8544f92904793a411b3153d",
            "c78357191509404187b8e4722d963d6c",
            "d2f8fadab9c449659339bb54703fbe42",
            "bc6f690c66b0437fa38fb6dfde30085b",
            "5ed37eac4e6640dcbf6244c006e7a2af",
            "19afbef7c698491aa48e6d6c82efdd10",
            "787285bc8f3642cba17d5951264f093d",
            "8d46e71d0c19448abcfefb909e32fa60",
            "98ec43047edc413d871cbb9f8768cc1e",
            "aca2d4f537df49f38451e0c2c68d0b7a",
            "d80ebe5cd780473d83221f4b5c3232da",
            "ba040fea5d6940ea920e5c2aff43a090",
            "1bb4660385ec41afb4a88cad0d29463f",
            "b76387928758494487294949122b6f5a",
            "829196a50f4a420e819aef9701874ce7",
            "9d0a2dbced7e4ed9b8fe451ade07ccc6",
            "1ddc0a2725cc4785b0362ae8d7c2810f",
            "fef678deb201496886302d2ef36e68b8",
            "1836e900b98b4d80a90182bcff8c4638",
            "82424471bb3b47b6ad415c5c9ba50084"
          ]
        },
        "outputId": "0e3338d5-ab7d-46a1-a4ee-0dcdd77825bb"
      },
      "execution_count": null,
      "outputs": [
        {
          "output_type": "stream",
          "name": "stdout",
          "text": [
            "Downloading and preparing dataset 4.65 GiB (download: 4.65 GiB, generated: Unknown size, total: 4.65 GiB) to /root/tensorflow_datasets/food101/2.0.0...\n"
          ]
        },
        {
          "output_type": "display_data",
          "data": {
            "text/plain": [
              "Dl Completed...: 0 url [00:00, ? url/s]"
            ],
            "application/vnd.jupyter.widget-view+json": {
              "version_major": 2,
              "version_minor": 0,
              "model_id": "fefc427568e54dd485ed350713b8fd6b"
            }
          },
          "metadata": {}
        },
        {
          "output_type": "display_data",
          "data": {
            "text/plain": [
              "Dl Size...: 0 MiB [00:00, ? MiB/s]"
            ],
            "application/vnd.jupyter.widget-view+json": {
              "version_major": 2,
              "version_minor": 0,
              "model_id": "4d3859569676466aaec242d2639a39bf"
            }
          },
          "metadata": {}
        },
        {
          "output_type": "display_data",
          "data": {
            "text/plain": [
              "Extraction completed...: 0 file [00:00, ? file/s]"
            ],
            "application/vnd.jupyter.widget-view+json": {
              "version_major": 2,
              "version_minor": 0,
              "model_id": "fafe118839fa44fca92f5ef4a8247d6f"
            }
          },
          "metadata": {}
        },
        {
          "output_type": "display_data",
          "data": {
            "text/plain": [
              "Shuffling /root/tensorflow_datasets/food101/2.0.0.incompletePEYN2H/food101-train.tfrecord*...:   0%|          …"
            ],
            "application/vnd.jupyter.widget-view+json": {
              "version_major": 2,
              "version_minor": 0,
              "model_id": "6eff8aac7f9145179fc1d8bd94967ae1"
            }
          },
          "metadata": {}
        },
        {
          "output_type": "display_data",
          "data": {
            "text/plain": [
              "Generating validation examples...:   0%|          | 0/25250 [00:00<?, ? examples/s]"
            ],
            "application/vnd.jupyter.widget-view+json": {
              "version_major": 2,
              "version_minor": 0,
              "model_id": "54a41074b8c94a6bb66a4e1465208018"
            }
          },
          "metadata": {}
        },
        {
          "output_type": "display_data",
          "data": {
            "text/plain": [
              "Shuffling /root/tensorflow_datasets/food101/2.0.0.incompletePEYN2H/food101-validation.tfrecord*...:   0%|     …"
            ],
            "application/vnd.jupyter.widget-view+json": {
              "version_major": 2,
              "version_minor": 0,
              "model_id": "aca2d4f537df49f38451e0c2c68d0b7a"
            }
          },
          "metadata": {}
        },
        {
          "output_type": "stream",
          "name": "stdout",
          "text": [
            "Dataset food101 downloaded and prepared to /root/tensorflow_datasets/food101/2.0.0. Subsequent calls will reuse this data.\n"
          ]
        }
      ]
    },
    {
      "cell_type": "code",
      "source": [
        "# Features of Food101 from TFDS\n",
        "ds_info.features"
      ],
      "metadata": {
        "colab": {
          "base_uri": "https://localhost:8080/"
        },
        "id": "vNNBRg8QAScJ",
        "outputId": "05e5025c-7646-4293-8ca9-4b8d8404c6cb"
      },
      "execution_count": null,
      "outputs": [
        {
          "output_type": "execute_result",
          "data": {
            "text/plain": [
              "FeaturesDict({\n",
              "    'image': Image(shape=(None, None, 3), dtype=uint8),\n",
              "    'label': ClassLabel(shape=(), dtype=int64, num_classes=101),\n",
              "})"
            ]
          },
          "metadata": {},
          "execution_count": 6
        }
      ]
    },
    {
      "cell_type": "code",
      "source": [
        "# Get class names\n",
        "\n",
        "class_names  = ds_info.features['label'].names\n",
        "class_names"
      ],
      "metadata": {
        "colab": {
          "base_uri": "https://localhost:8080/"
        },
        "id": "1lXiY8zQA-mU",
        "outputId": "61bdf4f1-09b5-4473-f578-fe9635e908c0"
      },
      "execution_count": null,
      "outputs": [
        {
          "output_type": "execute_result",
          "data": {
            "text/plain": [
              "['apple_pie',\n",
              " 'baby_back_ribs',\n",
              " 'baklava',\n",
              " 'beef_carpaccio',\n",
              " 'beef_tartare',\n",
              " 'beet_salad',\n",
              " 'beignets',\n",
              " 'bibimbap',\n",
              " 'bread_pudding',\n",
              " 'breakfast_burrito',\n",
              " 'bruschetta',\n",
              " 'caesar_salad',\n",
              " 'cannoli',\n",
              " 'caprese_salad',\n",
              " 'carrot_cake',\n",
              " 'ceviche',\n",
              " 'cheesecake',\n",
              " 'cheese_plate',\n",
              " 'chicken_curry',\n",
              " 'chicken_quesadilla',\n",
              " 'chicken_wings',\n",
              " 'chocolate_cake',\n",
              " 'chocolate_mousse',\n",
              " 'churros',\n",
              " 'clam_chowder',\n",
              " 'club_sandwich',\n",
              " 'crab_cakes',\n",
              " 'creme_brulee',\n",
              " 'croque_madame',\n",
              " 'cup_cakes',\n",
              " 'deviled_eggs',\n",
              " 'donuts',\n",
              " 'dumplings',\n",
              " 'edamame',\n",
              " 'eggs_benedict',\n",
              " 'escargots',\n",
              " 'falafel',\n",
              " 'filet_mignon',\n",
              " 'fish_and_chips',\n",
              " 'foie_gras',\n",
              " 'french_fries',\n",
              " 'french_onion_soup',\n",
              " 'french_toast',\n",
              " 'fried_calamari',\n",
              " 'fried_rice',\n",
              " 'frozen_yogurt',\n",
              " 'garlic_bread',\n",
              " 'gnocchi',\n",
              " 'greek_salad',\n",
              " 'grilled_cheese_sandwich',\n",
              " 'grilled_salmon',\n",
              " 'guacamole',\n",
              " 'gyoza',\n",
              " 'hamburger',\n",
              " 'hot_and_sour_soup',\n",
              " 'hot_dog',\n",
              " 'huevos_rancheros',\n",
              " 'hummus',\n",
              " 'ice_cream',\n",
              " 'lasagna',\n",
              " 'lobster_bisque',\n",
              " 'lobster_roll_sandwich',\n",
              " 'macaroni_and_cheese',\n",
              " 'macarons',\n",
              " 'miso_soup',\n",
              " 'mussels',\n",
              " 'nachos',\n",
              " 'omelette',\n",
              " 'onion_rings',\n",
              " 'oysters',\n",
              " 'pad_thai',\n",
              " 'paella',\n",
              " 'pancakes',\n",
              " 'panna_cotta',\n",
              " 'peking_duck',\n",
              " 'pho',\n",
              " 'pizza',\n",
              " 'pork_chop',\n",
              " 'poutine',\n",
              " 'prime_rib',\n",
              " 'pulled_pork_sandwich',\n",
              " 'ramen',\n",
              " 'ravioli',\n",
              " 'red_velvet_cake',\n",
              " 'risotto',\n",
              " 'samosa',\n",
              " 'sashimi',\n",
              " 'scallops',\n",
              " 'seaweed_salad',\n",
              " 'shrimp_and_grits',\n",
              " 'spaghetti_bolognese',\n",
              " 'spaghetti_carbonara',\n",
              " 'spring_rolls',\n",
              " 'steak',\n",
              " 'strawberry_shortcake',\n",
              " 'sushi',\n",
              " 'tacos',\n",
              " 'takoyaki',\n",
              " 'tiramisu',\n",
              " 'tuna_tartare',\n",
              " 'waffles']"
            ]
          },
          "metadata": {},
          "execution_count": 7
        }
      ]
    },
    {
      "cell_type": "markdown",
      "source": [
        "## Exploring Food101 Datasets"
      ],
      "metadata": {
        "id": "5rftLyA-BH_Y"
      }
    },
    {
      "cell_type": "code",
      "source": [
        "# Take one\n",
        "train_data_sample = train_data.take(1)"
      ],
      "metadata": {
        "id": "rTdi1s2qBQ9i"
      },
      "execution_count": null,
      "outputs": []
    },
    {
      "cell_type": "code",
      "source": [
        "train_data_sample"
      ],
      "metadata": {
        "colab": {
          "base_uri": "https://localhost:8080/"
        },
        "id": "gZBwlzgIBeCK",
        "outputId": "09b2beb2-6688-4192-f243-8045886440f9"
      },
      "execution_count": null,
      "outputs": [
        {
          "output_type": "execute_result",
          "data": {
            "text/plain": [
              "<_TakeDataset element_spec=(TensorSpec(shape=(None, None, 3), dtype=tf.uint8, name=None), TensorSpec(shape=(), dtype=tf.int64, name=None))>"
            ]
          },
          "metadata": {},
          "execution_count": 9
        }
      ]
    },
    {
      "cell_type": "code",
      "source": [
        "# Output info about our  training sample\n",
        "\n",
        "for image, label in train_data_sample:\n",
        "  print(f'''\n",
        "  Image Shape : {image.shape}\n",
        "  Image datatype : {image.dtype}\n",
        "  Target class : {label}\n",
        "  Target Name : {class_names[label.numpy()]}\n",
        "  ''')"
      ],
      "metadata": {
        "colab": {
          "base_uri": "https://localhost:8080/"
        },
        "id": "poAhIytYBilx",
        "outputId": "0c12c9a0-9961-4dd4-e7d6-77a8a443a8bd"
      },
      "execution_count": null,
      "outputs": [
        {
          "output_type": "stream",
          "name": "stdout",
          "text": [
            "\n",
            "  Image Shape : (512, 512, 3)\n",
            "  Image datatype : <dtype: 'uint8'>\n",
            "  Target class : 30\n",
            "  Target Name : deviled_eggs\n",
            "  \n"
          ]
        }
      ]
    },
    {
      "cell_type": "code",
      "source": [
        "# Min and max values of immage\n",
        "import tensorflow as tf\n",
        "tf.reduce_min(image), tf.reduce_max(image)"
      ],
      "metadata": {
        "colab": {
          "base_uri": "https://localhost:8080/"
        },
        "id": "iAmEYpTeCKhD",
        "outputId": "7227c29f-8d5e-4d23-af58-a4d91b70ee6e"
      },
      "execution_count": null,
      "outputs": [
        {
          "output_type": "execute_result",
          "data": {
            "text/plain": [
              "(<tf.Tensor: shape=(), dtype=uint8, numpy=0>,\n",
              " <tf.Tensor: shape=(), dtype=uint8, numpy=255>)"
            ]
          },
          "metadata": {},
          "execution_count": 11
        }
      ]
    },
    {
      "cell_type": "markdown",
      "source": [
        "## Plot the image"
      ],
      "metadata": {
        "id": "BnKs8iynCT4G"
      }
    },
    {
      "cell_type": "code",
      "source": [
        "import matplotlib.pyplot as plt\n",
        "plt.imshow(image)\n",
        "plt.title(class_names[label.numpy()])"
      ],
      "metadata": {
        "colab": {
          "base_uri": "https://localhost:8080/",
          "height": 469
        },
        "id": "71pfJUwGCduB",
        "outputId": "d073ebbb-ae56-489c-a6f1-6ce3ce0a9fcc"
      },
      "execution_count": null,
      "outputs": [
        {
          "output_type": "execute_result",
          "data": {
            "text/plain": [
              "Text(0.5, 1.0, 'deviled_eggs')"
            ]
          },
          "metadata": {},
          "execution_count": 12
        },
        {
          "output_type": "display_data",
          "data": {
            "text/plain": [
              "<Figure size 640x480 with 1 Axes>"
            ],
            "image/png": "[encoded data removed]"
          },
          "metadata": {}
        }
      ]
    },
    {
      "cell_type": "markdown",
      "source": [
        "## Create preprocessing functions"
      ],
      "metadata": {
        "id": "V69fGS4ODLI3"
      }
    },
    {
      "cell_type": "code",
      "source": [
        "# Make a func for preprocssing image\n",
        "\n",
        "def preprocess_img(image, label, img_shape = 224):\n",
        "  image = tf.image.resize(image, [img_shape, img_shape])\n",
        "  return tf.cast(image, tf.float32), label"
      ],
      "metadata": {
        "id": "uj_HDyMFE4A2"
      },
      "execution_count": null,
      "outputs": []
    },
    {
      "cell_type": "code",
      "source": [
        "preprocessed_img = preprocess_img(image, label)[0]"
      ],
      "metadata": {
        "id": "Ci1hmovTGDIl"
      },
      "execution_count": null,
      "outputs": []
    },
    {
      "cell_type": "code",
      "source": [
        "image[0]"
      ],
      "metadata": {
        "colab": {
          "base_uri": "https://localhost:8080/"
        },
        "id": "B4Xh6G0wGN-f",
        "outputId": "514fd862-1939-4471-f9b0-e2e1585de2ad"
      },
      "execution_count": null,
      "outputs": [
        {
          "output_type": "execute_result",
          "data": {
            "text/plain": [
              "<tf.Tensor: shape=(512, 3), dtype=uint8, numpy=\n",
              "array([[28, 31, 50],\n",
              "       [27, 30, 49],\n",
              "       [21, 23, 44],\n",
              "       ...,\n",
              "       [17, 28, 60],\n",
              "       [20, 30, 65],\n",
              "       [28, 38, 73]], dtype=uint8)>"
            ]
          },
          "metadata": {},
          "execution_count": 15
        }
      ]
    },
    {
      "cell_type": "code",
      "source": [
        "image.shape"
      ],
      "metadata": {
        "colab": {
          "base_uri": "https://localhost:8080/"
        },
        "id": "VyG3ZkLmGo3M",
        "outputId": "beffd9b2-7e25-4204-fc61-6dc2ceaeb86f"
      },
      "execution_count": null,
      "outputs": [
        {
          "output_type": "execute_result",
          "data": {
            "text/plain": [
              "TensorShape([512, 512, 3])"
            ]
          },
          "metadata": {},
          "execution_count": 16
        }
      ]
    },
    {
      "cell_type": "code",
      "source": [
        "preprocessed_img[0]"
      ],
      "metadata": {
        "colab": {
          "base_uri": "https://localhost:8080/"
        },
        "id": "roM3CatmGXFq",
        "outputId": "814d8f2f-c670-4a68-b92b-dd74ef394cb1"
      },
      "execution_count": null,
      "outputs": [
        {
          "output_type": "execute_result",
          "data": {
            "text/plain": [
              "<tf.Tensor: shape=(224, 3), dtype=float32, numpy=\n",
              "array([[ 21.801022 ,  24.801022 ,  43.80102  ],\n",
              "       [ 17.7551   ,  19.7551   ,  40.755104 ],\n",
              "       [ 16.16837  ,  18.16837  ,  41.16837  ],\n",
              "       [ 18.535713 ,  20.535713 ,  43.535713 ],\n",
              "       [ 15.158162 ,  17.158163 ,  38.311222 ],\n",
              "       [ 26.994896 ,  29.994896 ,  47.65816  ],\n",
              "       [ 24.091831 ,  27.091831 ,  44.09183  ],\n",
              "       [ 22.739801 ,  25.382658 ,  45.096947 ],\n",
              "       [ 25.94898  ,  30.948978 ,  49.948982 ],\n",
              "       [ 20.770405 ,  27.198978 ,  42.556118 ],\n",
              "       [ 22.392841 ,  31.392845 ,  42.892838 ],\n",
              "       [ 23.831629 ,  36.188774 ,  44.617344 ],\n",
              "       [ 22.719374 ,  37.719376 ,  43.91325  ],\n",
              "       [ 18.663265 ,  34.377552 ,  39.632656 ],\n",
              "       [ 16.979614 ,  33.622475 ,  48.551056 ],\n",
              "       [ 22.40305  ,  38.40305  ,  54.40305  ],\n",
              "       [ 23.755108 ,  35.54082  ,  57.54082  ],\n",
              "       [ 21.57143  ,  31.07143  ,  53.57143  ],\n",
              "       [ 23.903067 ,  31.903067 ,  54.903065 ],\n",
              "       [ 25.704084 ,  36.704086 ,  56.704086 ],\n",
              "       [ 26.37755  ,  37.377552 ,  55.377552 ],\n",
              "       [ 28.571438 ,  39.571438 ,  58.285717 ],\n",
              "       [ 32.12245  ,  44.12245  ,  56.408157 ],\n",
              "       [ 94.43886  , 109.653145 , 113.020485 ],\n",
              "       [228.57149  , 245.67863  , 245.67863  ],\n",
              "       [228.94386  , 249.94386  , 252.5153   ],\n",
              "       [215.0765   , 239.2704   , 250.17346  ],\n",
              "       [197.8061   , 224.67856  , 243.36224  ],\n",
              "       [198.34695  , 217.83163  , 250.34695  ],\n",
              "       [198.7857   , 219.38264  , 251.18877  ],\n",
              "       [191.5459   , 214.97449  , 245.7602   ],\n",
              "       [177.60715  , 202.60715  , 232.60715  ],\n",
              "       [182.4847   , 205.91325  , 239.19388  ],\n",
              "       [183.20914  , 202.20914  , 242.20914  ],\n",
              "       [169.31125  , 188.05614  , 230.77043  ],\n",
              "       [171.03061  , 184.74489  , 228.38774  ],\n",
              "       [164.57143  , 177.57143  , 221.57143  ],\n",
              "       [159.14285  , 167.71428  , 210.92857  ],\n",
              "       [158.64288  , 164.28572  , 207.4643   ],\n",
              "       [155.65305  , 157.36223  , 200.3061   ],\n",
              "       [150.92345  , 149.92345  , 191.11731  ],\n",
              "       [146.7296   , 144.31633  , 185.42857  ],\n",
              "       [142.28572  , 140.5153   , 177.5408   ],\n",
              "       [142.       , 137.66837  , 170.47958  ],\n",
              "       [141.21939  , 130.80103  , 161.30612  ],\n",
              "       [139.35709  , 123.49993  , 151.14278  ],\n",
              "       [140.9949   , 122.43367  , 148.71428  ],\n",
              "       [145.28575  , 125.33167  , 153.33167  ],\n",
              "       [149.3163   , 131.38774  , 159.48978  ],\n",
              "       [145.92346  , 130.66837  , 161.33673  ],\n",
              "       [144.45918  , 130.38776  , 156.60204  ],\n",
              "       [143.01018  , 127.010185 , 153.01018  ],\n",
              "       [139.10713  , 123.10713  , 149.60715  ],\n",
              "       [127.852005 , 113.86221  , 143.92856  ],\n",
              "       [125.57143  , 113.57143  , 151.7143   ],\n",
              "       [122.       , 111.       , 152.51529  ],\n",
              "       [126.00001  , 119.00001  , 150.84183  ],\n",
              "       [129.68878  , 122.68878  , 153.68878  ],\n",
              "       [132.7245   , 125.7245   , 157.15309  ],\n",
              "       [134.       , 127.       , 160.5      ],\n",
              "       [145.76021  , 139.54593  , 173.54593  ],\n",
              "       [141.78064  , 135.78064  , 169.78064  ],\n",
              "       [137.75508  , 131.2959   , 167.5255   ],\n",
              "       [129.7091   , 119.7091   , 154.7091   ],\n",
              "       [123.5102   , 113.5102   , 148.51021  ],\n",
              "       [116.199005 , 106.84189  , 141.6276   ],\n",
              "       [121.21429  , 114.07143  , 149.39285  ],\n",
              "       [121.65307  , 115.65307  , 151.65308  ],\n",
              "       [124.31628  , 119.12242  , 154.71935  ],\n",
              "       [126.62758  , 121.341866 , 156.27043  ],\n",
              "       [135.77048  , 130.64293  , 162.89803  ],\n",
              "       [139.86224  , 133.86224  , 167.86224  ],\n",
              "       [134.37247  , 128.15817  , 166.80106  ],\n",
              "       [142.85715  , 136.35715  , 175.85715  ],\n",
              "       [151.5      , 145.5      , 179.92856  ],\n",
              "       [163.6428   , 159.6428   , 186.4489   ],\n",
              "       [164.21428  , 160.49998  , 182.08673  ],\n",
              "       [168.44388  , 158.38774  , 190.03062  ],\n",
              "       [163.66325  , 157.11224  , 189.85204  ],\n",
              "       [167.48468  , 165.47449  , 196.68878  ],\n",
              "       [163.57149  , 165.92865  , 196.92865  ],\n",
              "       [172.25511  , 177.25511  , 208.82655  ],\n",
              "       [166.58173  , 171.58173  , 203.58173  ],\n",
              "       [176.65306  , 180.24998  , 212.83673  ],\n",
              "       [177.88268  , 171.69897  , 205.46939  ],\n",
              "       [187.06123  , 180.06123  , 214.06123  ],\n",
              "       [185.79082  , 175.36223  , 210.57652  ],\n",
              "       [193.8573   , 180.85727  , 216.85727  ],\n",
              "       [200.37247  , 185.81123  , 222.09184  ],\n",
              "       [202.45914  , 186.45914  , 223.45914  ],\n",
              "       [199.66837  , 183.2092   , 220.08163  ],\n",
              "       [200.68878  , 191.33165  , 218.33162  ],\n",
              "       [204.83675  , 196.19388  , 222.12245  ],\n",
              "       [207.5      , 198.85715  , 224.78572  ],\n",
              "       [206.3571   , 197.71425  , 223.64282  ],\n",
              "       [215.41841  , 206.77554  , 232.70412  ],\n",
              "       [217.78572  , 208.78572  , 235.78572  ],\n",
              "       [219.22958  , 210.22958  , 238.77042  ],\n",
              "       [222.57146  , 212.80104  , 246.34187  ],\n",
              "       [222.11732  , 212.11732  , 246.47446  ],\n",
              "       [223.57652  , 214.21938  , 246.57143  ],\n",
              "       [219.1071   , 211.25     , 241.82138  ],\n",
              "       [218.93367  , 212.57654  , 241.64796  ],\n",
              "       [221.04593  , 215.04593  , 241.76021  ],\n",
              "       [221.64285  , 215.64285  , 242.35715  ],\n",
              "       [223.98471  , 214.44388  , 239.92859  ],\n",
              "       [226.73982  , 216.73982  , 241.14287  ],\n",
              "       [229.42857  , 219.42857  , 243.92348  ],\n",
              "       [231.67862  , 221.67862  , 245.85718  ],\n",
              "       [233.42348  , 223.42348  , 247.42348  ],\n",
              "       [235.55103  , 225.55103  , 249.55103  ],\n",
              "       [237.46939  , 227.92857  , 251.69897  ],\n",
              "       [237.56123  , 230.80109  , 253.3878   ],\n",
              "       [234.33157  , 230.26016  , 254.40305  ],\n",
              "       [222.85204  , 222.01021  , 248.7194   ],\n",
              "       [218.67857  , 220.64285  , 249.32143  ],\n",
              "       [209.62749  , 213.62749  , 242.62749  ],\n",
              "       [202.04587  , 206.04587  , 235.04587  ],\n",
              "       [195.46938  , 199.46938  , 226.46938  ],\n",
              "       [187.69891  , 192.69891  , 222.69891  ],\n",
              "       [181.95404  , 185.95404  , 214.95404  ],\n",
              "       [176.3469   , 180.3469   , 208.9183   ],\n",
              "       [166.46428  , 170.46428  , 196.46428  ],\n",
              "       [159.29077  , 164.0765   , 186.7193   ],\n",
              "       [157.47443  , 162.47443  , 182.47443  ],\n",
              "       [148.33162  , 153.58673  , 172.81633  ],\n",
              "       [139.57645  , 146.21933  , 172.21938  ],\n",
              "       [139.16322  , 146.76018  , 170.96933  ],\n",
              "       [124.13777  , 129.92348  , 152.4847   ],\n",
              "       [119.53571  , 123.03571  , 143.89285  ],\n",
              "       [ 93.62213  ,  94.97414  , 114.91292  ],\n",
              "       [ 41.351803 ,  42.397728 ,  60.25995  ],\n",
              "       [  6.4591894,   5.4591894,  20.744894 ],\n",
              "       [ 15.760415 ,  12.760415 ,  22.47465  ],\n",
              "       [ 10.025399 ,   7.025399 ,  16.0254   ],\n",
              "       [ 15.581613 ,  12.581613 ,  21.581612 ],\n",
              "       [ 14.857142 ,  11.857142 ,  20.857143 ],\n",
              "       [  7.831541 ,   4.831541 ,  13.831541 ],\n",
              "       [ 13.806178 ,  10.806178 ,  21.80618  ],\n",
              "       [ 19.326529 ,  16.683676 ,  27.683676 ],\n",
              "       [ 19.698683 ,  18.98445  ,  31.341566 ],\n",
              "       [ 21.964348 ,  21.964348 ,  33.964348 ],\n",
              "       [ 22.969316 ,  22.540728 ,  32.755024 ],\n",
              "       [ 21.357143 ,  19.357143 ,  30.357143 ],\n",
              "       [ 16.65298  ,  13.867245 ,  24.867245 ],\n",
              "       [ 13.882658 ,  10.882658 ,  21.882658 ],\n",
              "       [ 15.372438 ,  10.44388  ,  21.831629 ],\n",
              "       [  9.714208 ,   9.999974 ,  16.071323 ],\n",
              "       [ 18.92866  ,  18.92866  ,  26.92866  ],\n",
              "       [ 21.198961 ,  21.198961 ,  31.62755  ],\n",
              "       [ 11.17853  ,  10.678499 ,  23.67856  ],\n",
              "       [ 17.29094  ,  16.29094  ,  31.862411 ],\n",
              "       [ 19.122368 ,  18.122368 ,  36.122368 ],\n",
              "       [ 11.219388 ,  10.29083  ,  30.933681 ],\n",
              "       [ 13.112122 ,  15.397888 ,  34.755005 ],\n",
              "       [ 13.372411 ,  14.372411 ,  34.37241  ],\n",
              "       [ 19.653137 ,  18.224548 ,  36.010254 ],\n",
              "       [ 20.000051 ,  16.99999  ,  31.500021 ],\n",
              "       [ 22.097183 ,  16.525711 ,  28.954239 ],\n",
              "       [ 24.26016  ,  16.26016  ,  27.26016  ],\n",
              "       [ 21.653028 ,  11.6530285,  22.653028 ],\n",
              "       [ 22.57135  ,  12.57135  ,  21.57135  ],\n",
              "       [ 21.331604 ,  12.525503 ,  22.719404 ],\n",
              "       [ 23.071507 ,  16.510288 ,  29.219486 ],\n",
              "       [ 21.927965 ,  15.927965 ,  29.927965 ],\n",
              "       [ 26.938978 ,  19.367506 ,  34.15324  ],\n",
              "       [ 29.57139  ,  18.57139  ,  33.76525  ],\n",
              "       [ 20.612217 ,  11.627544 ,  23.510185 ],\n",
              "       [ 14.16306  ,  15.734593 ,  21.55086  ],\n",
              "       [ 18.142944 ,  19.142944 ,  24.142944 ],\n",
              "       [ 18.811214 ,  19.382626 ,  25.025509 ],\n",
              "       [ 17.107044 ,  15.607015 ,  25.107105 ],\n",
              "       [ 14.57132  ,  13.632538 ,  27.127487 ],\n",
              "       [ 21.765577 ,  24.102322 ,  41.57683  ],\n",
              "       [ 67.245026 ,  70.31647  ,  90.831764 ],\n",
              "       [ 90.045685 ,  96.7906   , 113.63238  ],\n",
              "       [ 35.994602 ,  39.208836 ,  56.137424 ],\n",
              "       [ 19.469395 ,  17.964273 ,  36.0255   ],\n",
              "       [ 13.3571205,   9.3571205,  25.999956 ],\n",
              "       [ 67.07738  ,  64.64885  ,  78.58249  ],\n",
              "       [ 24.489742 ,  24.627522 ,  35.775455 ],\n",
              "       [ 24.556198 ,  27.556198 ,  35.84191  ],\n",
              "       [ 18.519888 ,  21.519888 ,  30.519888 ],\n",
              "       [  6.8061   ,   8.8061   ,  21.40305  ],\n",
              "       [ 11.58671  ,  13.372416 ,  29.443888 ],\n",
              "       [ 10.071384 ,  11.071384 ,  31.071384 ],\n",
              "       [ 16.005182 ,  17.005182 ,  37.00518  ],\n",
              "       [ 12.872426 ,  15.872426 ,  32.872425 ],\n",
              "       [ 14.61736  ,  17.61736  ,  32.61736  ],\n",
              "       [ 10.137577 ,  16.137577 ,  30.137577 ],\n",
              "       [ 18.29602  ,  22.29602  ,  34.29602  ],\n",
              "       [ 21.25512  ,  22.82653  ,  34.82653  ],\n",
              "       [ 16.928474 ,  16.928474 ,  28.928474 ],\n",
              "       [ 23.06135  ,  23.06135  ,  35.061348 ],\n",
              "       [ 22.244877 ,  24.244877 ,  37.244877 ],\n",
              "       [ 28.719639 ,  31.076817 ,  46.076817 ],\n",
              "       [ 19.423397 ,  27.709164 ,  45.06628  ],\n",
              "       [ 16.581648 ,  25.581648 ,  40.581646 ],\n",
              "       [ 26.72941  ,  36.30082  ,  48.515114 ],\n",
              "       [ 26.249832 ,  33.7498   ,  48.249893 ],\n",
              "       [ 25.290962 ,  32.290962 ,  50.64817  ],\n",
              "       [ 16.561275 ,  20.561275 ,  45.561275 ],\n",
              "       [ 28.158012 ,  32.158012 ,  59.158012 ],\n",
              "       [ 23.178585 ,  28.178585 ,  57.178585 ],\n",
              "       [ 23.913269 ,  29.913269 ,  55.91327  ],\n",
              "       [ 25.984694 ,  32.122456 ,  53.70917  ],\n",
              "       [ 24.892824 ,  30.892763 ,  49.892765 ],\n",
              "       [ 27.311405 ,  32.311405 ,  51.311405 ],\n",
              "       [ 21.199135 ,  26.199135 ,  45.199135 ],\n",
              "       [ 27.143345 ,  32.143345 ,  52.143345 ],\n",
              "       [ 28.658016 ,  32.658016 ,  57.658016 ],\n",
              "       [ 26.729729 ,  31.729729 ,  53.72973  ],\n",
              "       [ 25.81639  ,  30.81639  ,  52.3878   ],\n",
              "       [ 29.85748  ,  36.50036  ,  55.178886 ],\n",
              "       [ 28.438717 ,  35.438717 ,  51.867245 ],\n",
              "       [ 37.750034 ,  44.750034 ,  60.750034 ],\n",
              "       [ 33.561    ,  42.02023  ,  54.790615 ],\n",
              "       [ 39.454105 ,  48.454105 ,  63.454105 ],\n",
              "       [ 34.32652  ,  43.32652  ,  59.52042  ],\n",
              "       [ 40.790775 ,  49.43366  ,  68.801025 ],\n",
              "       [ 37.49987  ,  47.99984  ,  71.85709  ],\n",
              "       [ 37.61732  ,  46.831585 ,  75.964294 ],\n",
              "       [ 30.214298 ,  41.2143   ,  72.02044  ],\n",
              "       [ 26.163052 ,  36.80591  ,  69.877335 ]], dtype=float32)>"
            ]
          },
          "metadata": {},
          "execution_count": 17
        }
      ]
    },
    {
      "cell_type": "code",
      "source": [
        "preprocessed_img.shape"
      ],
      "metadata": {
        "colab": {
          "base_uri": "https://localhost:8080/"
        },
        "id": "q8ANeVsUGdy_",
        "outputId": "d7aa92cd-b280-4e0f-c790-1829d31cb227"
      },
      "execution_count": null,
      "outputs": [
        {
          "output_type": "execute_result",
          "data": {
            "text/plain": [
              "TensorShape([224, 224, 3])"
            ]
          },
          "metadata": {},
          "execution_count": 18
        }
      ]
    },
    {
      "cell_type": "markdown",
      "source": [
        "## Batch and prepare datasets"
      ],
      "metadata": {
        "id": "xI6dKeYwGsOo"
      }
    },
    {
      "cell_type": "code",
      "source": [
        "train_data_ = train_data.map(map_func = preprocess_img,\n",
        "                              num_parallel_calls = tf.data.AUTOTUNE)\n",
        "# Shuffle train and turn it into batches\n",
        "train_data_batch = train_data_.shuffle(buffer_size = 1000).batch(batch_size = 32).prefetch(buffer_size = tf.data.AUTOTUNE)"
      ],
      "metadata": {
        "id": "iONzd6RUG35d"
      },
      "execution_count": null,
      "outputs": []
    },
    {
      "cell_type": "code",
      "source": [
        "test_data_batch = test_data.map(map_func = preprocess_img,\n",
        "                             num_parallel_calls = tf.data.AUTOTUNE).batch(32).prefetch(tf.data.AUTOTUNE)"
      ],
      "metadata": {
        "id": "mtKKU2PSHG-o"
      },
      "execution_count": null,
      "outputs": []
    },
    {
      "cell_type": "code",
      "source": [
        "train_data_batch, test_data_batch"
      ],
      "metadata": {
        "colab": {
          "base_uri": "https://localhost:8080/"
        },
        "id": "bAejiLKLIEzD",
        "outputId": "d0be8706-11f5-4b23-af0e-aec995412e24"
      },
      "execution_count": null,
      "outputs": [
        {
          "output_type": "execute_result",
          "data": {
            "text/plain": [
              "(<_PrefetchDataset element_spec=(TensorSpec(shape=(None, 224, 224, 3), dtype=tf.float32, name=None), TensorSpec(shape=(None,), dtype=tf.int64, name=None))>,\n",
              " <_PrefetchDataset element_spec=(TensorSpec(shape=(None, 224, 224, 3), dtype=tf.float32, name=None), TensorSpec(shape=(None,), dtype=tf.int64, name=None))>)"
            ]
          },
          "metadata": {},
          "execution_count": 21
        }
      ]
    },
    {
      "cell_type": "markdown",
      "source": [
        "## Create modelling callbacks"
      ],
      "metadata": {
        "id": "fjPXkntgJRaE"
      }
    },
    {
      "cell_type": "code",
      "source": [
        "# Create tensorboard callback\n",
        "\n",
        "from helper_functions import create_tensorboard_callback\n",
        "\n",
        "# Model ckcpt\n",
        "check_pt_path = 'model_checkpoint/cp.ckpt'\n",
        "model_checkpoint = tf.keras.callbacks.ModelCheckpoint(check_pt_path,\n",
        "                                                     monitor = 'val_acc',\n",
        "                                                     save_best_only = True,\n",
        "                                                     save_weights_only = True,\n",
        "                                                     verbose = 0)"
      ],
      "metadata": {
        "id": "iWr8BEKsKprm"
      },
      "execution_count": null,
      "outputs": []
    },
    {
      "cell_type": "markdown",
      "source": [
        "## Setup mixed precision"
      ],
      "metadata": {
        "id": "ozIQ3TEiLtWK"
      }
    },
    {
      "cell_type": "code",
      "source": [
        "from tensorflow.keras import mixed_precision\n",
        "mixed_precision.set_global_policy('mixed_float16')"
      ],
      "metadata": {
        "id": "J29PluLZLzHV"
      },
      "execution_count": null,
      "outputs": []
    },
    {
      "cell_type": "markdown",
      "source": [
        "## Build a feature extraction model"
      ],
      "metadata": {
        "id": "UQ-khXeuRDKB"
      }
    },
    {
      "cell_type": "code",
      "source": [
        "from tensorflow.keras import layers\n",
        "from tensorflow.keras.layers.experimental import preprocessing\n",
        "\n",
        "\n",
        "input_shape = (224, 224, 3)\n",
        "base_model = tf.keras.applications.EfficientNetB0(include_top = False)\n",
        "base_model.trainable = False\n",
        "\n",
        "\n",
        "inputs = layers.Input(shape = input_shape, name = 'input_layer')\n",
        "x = base_model(inputs, training = False)\n",
        "x = layers.GlobalAveragePooling2D()(x)\n",
        "x = layers.Dense(len(class_names))(x)\n",
        "output = layers.Activation('softmax', dtype = 'float32', name = 'softmax_float32')(x)\n",
        "model = tf.keras.Model(inputs, output)\n",
        "\n",
        "\n",
        "model.compile(loss = tf.keras.losses.SparseCategoricalCrossentropy(),\n",
        "              optimizer = tf.keras.optimizers.Adam(),\n",
        "              metrics = ['accuracy'])"
      ],
      "metadata": {
        "id": "D_tag07VRHJj",
        "colab": {
          "base_uri": "https://localhost:8080/"
        },
        "outputId": "f36d6184-82aa-4c3b-c26e-c7f7b45dd07d"
      },
      "execution_count": null,
      "outputs": [
        {
          "output_type": "stream",
          "name": "stdout",
          "text": [
            "Downloading data from https://storage.googleapis.com/keras-applications/efficientnetb0_notop.h5\n",
            "16705208/16705208 [==============================] - 2s 0us/step\n"
          ]
        }
      ]
    },
    {
      "cell_type": "code",
      "source": [
        "model.summary()"
      ],
      "metadata": {
        "colab": {
          "base_uri": "https://localhost:8080/"
        },
        "id": "er4G7qvESDaM",
        "outputId": "414d4c8f-24aa-409b-9f9c-f339af671b59"
      },
      "execution_count": null,
      "outputs": [
        {
          "output_type": "stream",
          "name": "stdout",
          "text": [
            "Model: \"model\"\n",
            "_________________________________________________________________\n",
            " Layer (type)                Output Shape              Param #   \n",
            "=================================================================\n",
            " input_layer (InputLayer)    [(None, 224, 224, 3)]     0         \n",
            "                                                                 \n",
            " efficientnetb0 (Functional)  (None, None, None, 1280)  4049571  \n",
            "                                                                 \n",
            " global_average_pooling2d (G  (None, 1280)             0         \n",
            " lobalAveragePooling2D)                                          \n",
            "                                                                 \n",
            " dense (Dense)               (None, 101)               129381    \n",
            "                                                                 \n",
            " softmax_float32 (Activation  (None, 101)              0         \n",
            " )                                                               \n",
            "                                                                 \n",
            "=================================================================\n",
            "Total params: 4,178,952\n",
            "Trainable params: 129,381\n",
            "Non-trainable params: 4,049,571\n",
            "_________________________________________________________________\n"
          ]
        }
      ]
    },
    {
      "cell_type": "code",
      "source": [
        "for layer in model.layers:\n",
        "  print(layer.name, layer.trainable, layer.dtype, layer.dtype_policy)"
      ],
      "metadata": {
        "colab": {
          "base_uri": "https://localhost:8080/"
        },
        "id": "j5LGXv0WTdjt",
        "outputId": "630c5054-6e03-42cf-bd29-38c1fe58628e"
      },
      "execution_count": null,
      "outputs": [
        {
          "output_type": "stream",
          "name": "stdout",
          "text": [
            "input_layer True float32 <Policy \"float32\">\n",
            "efficientnetb0 False float32 <Policy \"mixed_float16\">\n",
            "global_average_pooling2d True float32 <Policy \"mixed_float16\">\n",
            "dense True float32 <Policy \"mixed_float16\">\n",
            "softmax_float32 True float32 <Policy \"float32\">\n"
          ]
        }
      ]
    },
    {
      "cell_type": "code",
      "source": [
        "for layer in base_model.layers[:10]:\n",
        "    print(layer.name, layer.trainable, layer.dtype, layer.dtype_policy)"
      ],
      "metadata": {
        "colab": {
          "base_uri": "https://localhost:8080/"
        },
        "id": "XGM4yX_sTzhm",
        "outputId": "b4e6c595-0e37-4597-a2b6-0a857dd48ceb"
      },
      "execution_count": null,
      "outputs": [
        {
          "output_type": "stream",
          "name": "stdout",
          "text": [
            "input_1 False float32 <Policy \"float32\">\n",
            "rescaling False float32 <Policy \"mixed_float16\">\n",
            "normalization False float32 <Policy \"mixed_float16\">\n",
            "rescaling_1 False float32 <Policy \"mixed_float16\">\n",
            "stem_conv_pad False float32 <Policy \"mixed_float16\">\n",
            "stem_conv False float32 <Policy \"mixed_float16\">\n",
            "stem_bn False float32 <Policy \"mixed_float16\">\n",
            "stem_activation False float32 <Policy \"mixed_float16\">\n",
            "block1a_dwconv False float32 <Policy \"mixed_float16\">\n",
            "block1a_bn False float32 <Policy \"mixed_float16\">\n"
          ]
        }
      ]
    },
    {
      "cell_type": "markdown",
      "source": [
        "## Fit the feature extraction model"
      ],
      "metadata": {
        "id": "aQZT7vFFUUlr"
      }
    },
    {
      "cell_type": "code",
      "source": [
        "history_feature_extraction = model.fit(train_data_batch,\n",
        "                                       epochs = 3,\n",
        "                                      steps_per_epoch = len(train_data_batch),\n",
        "                                      validation_data = test_data_batch,\n",
        "                                      validation_steps = int(0.15 * len(test_data_batch)),\n",
        "                                      callbacks = [create_tensorboard_callback(dir_name = 'training_logs',\n",
        "                                                                                experiment_name = 'effb0'),\n",
        "                                      model_checkpoint])"
      ],
      "metadata": {
        "colab": {
          "base_uri": "https://localhost:8080/"
        },
        "id": "uskFPIgjUnSR",
        "outputId": "e6b787ec-02d1-4a6d-8730-71060acf045d"
      },
      "execution_count": null,
      "outputs": [
        {
          "output_type": "stream",
          "name": "stderr",
          "text": [
            "WARNING:tensorflow:Model failed to serialize as JSON. Ignoring... Unable to serialize [2.0896919 2.1128857 2.1081853] to JSON. Unrecognized type <class 'tensorflow.python.framework.ops.EagerTensor'>.\n"
          ]
        },
        {
          "output_type": "stream",
          "name": "stdout",
          "text": [
            "Saving TensorBoard log files to: training_logs/effb0/20230704-052623\n",
            "Epoch 1/3\n",
            "2368/2368 [==============================] - ETA: 0s - loss: 1.7142 - accuracy: 0.5838"
          ]
        },
        {
          "output_type": "stream",
          "name": "stderr",
          "text": [
            "WARNING:tensorflow:Can save best model only with val_acc available, skipping.\n"
          ]
        },
        {
          "output_type": "stream",
          "name": "stdout",
          "text": [
            "\b\b\b\b\b\b\b\b\b\b\b\b\b\b\b\b\b\b\b\b\b\b\b\b\b\b\b\b\b\b\b\b\b\b\b\b\b\b\b\b\b\b\b\b\b\b\b\b\b\b\b\b\b\b\b\b\b\b\b\b\b\b\b\b\b\b\b\b\b\b\b\b\b\b\b\b\b\b\b\b\b\b\b\b\b\b\r2368/2368 [==============================] - 246s 100ms/step - loss: 1.7142 - accuracy: 0.5838 - val_loss: 1.1242 - val_accuracy: 0.6978\n",
            "Epoch 2/3\n",
            "2368/2368 [==============================] - ETA: 0s - loss: 1.1987 - accuracy: 0.6895"
          ]
        },
        {
          "output_type": "stream",
          "name": "stderr",
          "text": [
            "WARNING:tensorflow:Can save best model only with val_acc available, skipping.\n"
          ]
        },
        {
          "output_type": "stream",
          "name": "stdout",
          "text": [
            "\b\b\b\b\b\b\b\b\b\b\b\b\b\b\b\b\b\b\b\b\b\b\b\b\b\b\b\b\b\b\b\b\b\b\b\b\b\b\b\b\b\b\b\b\b\b\b\b\b\b\b\b\b\b\b\b\b\b\b\b\b\b\b\b\b\b\b\b\b\b\b\b\b\b\b\b\b\b\b\b\b\b\b\b\b\b\r2368/2368 [==============================] - 192s 80ms/step - loss: 1.1987 - accuracy: 0.6895 - val_loss: 1.0301 - val_accuracy: 0.7225\n",
            "Epoch 3/3\n",
            "2368/2368 [==============================] - ETA: 0s - loss: 1.0534 - accuracy: 0.7240"
          ]
        },
        {
          "output_type": "stream",
          "name": "stderr",
          "text": [
            "WARNING:tensorflow:Can save best model only with val_acc available, skipping.\n"
          ]
        },
        {
          "output_type": "stream",
          "name": "stdout",
          "text": [
            "\b\b\b\b\b\b\b\b\b\b\b\b\b\b\b\b\b\b\b\b\b\b\b\b\b\b\b\b\b\b\b\b\b\b\b\b\b\b\b\b\b\b\b\b\b\b\b\b\b\b\b\b\b\b\b\b\b\b\b\b\b\b\b\b\b\b\b\b\b\b\b\b\b\b\b\b\b\b\b\b\b\b\b\b\b\b\r2368/2368 [==============================] - 190s 79ms/step - loss: 1.0534 - accuracy: 0.7240 - val_loss: 0.9934 - val_accuracy: 0.7214\n"
          ]
        }
      ]
    },
    {
      "cell_type": "code",
      "source": [
        "# Eval\n",
        "results_feature_extract = model.evaluate(test_data_batch)"
      ],
      "metadata": {
        "colab": {
          "base_uri": "https://localhost:8080/"
        },
        "id": "ILylpZjEXvmm",
        "outputId": "7c973f15-4187-4551-cb20-afea60f53797"
      },
      "execution_count": null,
      "outputs": [
        {
          "output_type": "stream",
          "name": "stdout",
          "text": [
            "790/790 [==============================] - 57s 72ms/step - loss: 0.9951 - accuracy: 0.7298\n"
          ]
        }
      ]
    },
    {
      "cell_type": "markdown",
      "source": [
        "## Fine Tuning the Model"
      ],
      "metadata": {
        "id": "XJGp48mjX2R0"
      }
    },
    {
      "cell_type": "code",
      "source": [
        "from tensorflow.keras import layers\n",
        "from tensorflow.keras.layers.experimental import preprocessing\n",
        "\n",
        "\n",
        "input_shape = (224, 224, 3)\n",
        "base_model = tf.keras.applications.EfficientNetB0(include_top = False)\n",
        "base_model.trainable = False\n",
        "\n",
        "\n",
        "inputs = layers.Input(shape = input_shape, name = 'input_layer')\n",
        "x = base_model(inputs, training = False)\n",
        "x = layers.GlobalAveragePooling2D()(x)\n",
        "x = layers.Dense(len(class_names))(x)\n",
        "output = layers.Activation('softmax', dtype = 'float32', name = 'softmax_float32')(x)\n",
        "fine_model = tf.keras.Model(inputs, output)\n",
        "\n",
        "for layer in fine_model.layers:\n",
        "  layer.trainable = True\n",
        "\n",
        "fine_model.compile(loss = tf.keras.losses.SparseCategoricalCrossentropy(),\n",
        "              optimizer = tf.keras.optimizers.Adam(0.0001),\n",
        "              metrics = ['accuracy'])"
      ],
      "metadata": {
        "id": "vMgeVNHJjQcg"
      },
      "execution_count": null,
      "outputs": []
    },
    {
      "cell_type": "markdown",
      "source": [
        "### Creating callbacks"
      ],
      "metadata": {
        "id": "hrVrTaj_bkMc"
      }
    },
    {
      "cell_type": "code",
      "source": [
        "# Early stopping\n",
        "early_stopping = tf.keras.callbacks.EarlyStopping(monitor = 'val_loss',\n",
        "                                                  patience = 3)\n",
        "\n",
        "# Model chpt\n",
        "checkpoint_path = 'fine_tune_ckpts/'\n",
        "model_checkpoint = tf.keras.callbacks.ModelCheckpoint(checkpoint_path,\n",
        "                                                      save_best_only = True,\n",
        "                                                      save_weights_only = True,\n",
        "                                                      monitor = 'val_loss')\n",
        "\n",
        "# Reduce Lr\n",
        "\n",
        "reduce_lr = tf.keras.callbacks.ReduceLROnPlateau(monitor = 'val_loss',\n",
        "                                                 factor = 0.2,\n",
        "                                                 patience = 2,\n",
        "                                                 verbose = 1,\n",
        "                                                 min_lr = 1e-7)"
      ],
      "metadata": {
        "id": "OBL18iOKbxcQ"
      },
      "execution_count": null,
      "outputs": []
    },
    {
      "cell_type": "code",
      "source": [
        "history_fine_tune = fine_model.fit(train_data_batch,\n",
        "                                      epochs = 100,\n",
        "                                      steps_per_epoch = len(train_data_batch),\n",
        "                                      validation_data = test_data_batch,\n",
        "                                      validation_steps = int(0.15 * len(test_data_batch)),\n",
        "                                      callbacks = [\n",
        "                                          create_tensorboard_callback(dir_name = 'training_logs',\n",
        "                                                                       experiment_name = 'fine_tune_101'),\n",
        "                                          model_checkpoint,\n",
        "                                          early_stopping,\n",
        "                                          reduce_lr\n",
        "                                      ])"
      ],
      "metadata": {
        "colab": {
          "base_uri": "https://localhost:8080/"
        },
        "id": "yH_-jl0RdNVo",
        "outputId": "dbaeb857-88ae-40ed-d171-7a66a7839780"
      },
      "execution_count": null,
      "outputs": [
        {
          "output_type": "stream",
          "name": "stderr",
          "text": [
            "WARNING:tensorflow:Model failed to serialize as JSON. Ignoring... Unable to serialize [2.0896919 2.1128857 2.1081853] to JSON. Unrecognized type <class 'tensorflow.python.framework.ops.EagerTensor'>.\n"
          ]
        },
        {
          "output_type": "stream",
          "name": "stdout",
          "text": [
            "Saving TensorBoard log files to: training_logs/fine_tune_101/20230704-130632\n",
            "Epoch 1/100\n",
            "2368/2368 [==============================] - 432s 151ms/step - loss: 1.6281 - accuracy: 0.5879 - val_loss: 0.8935 - val_accuracy: 0.7529 - lr: 1.0000e-04\n",
            "Epoch 2/100\n",
            "2368/2368 [==============================] - 359s 150ms/step - loss: 0.8461 - accuracy: 0.7708 - val_loss: 0.7856 - val_accuracy: 0.7820 - lr: 1.0000e-04\n",
            "Epoch 3/100\n",
            "2368/2368 [==============================] - 357s 150ms/step - loss: 0.5400 - accuracy: 0.8489 - val_loss: 0.7748 - val_accuracy: 0.7924 - lr: 1.0000e-04\n",
            "Epoch 4/100\n",
            "2368/2368 [==============================] - 357s 150ms/step - loss: 0.3166 - accuracy: 0.9064 - val_loss: 0.8668 - val_accuracy: 0.7918 - lr: 1.0000e-04\n",
            "Epoch 5/100\n",
            "2368/2368 [==============================] - ETA: 0s - loss: 0.1860 - accuracy: 0.9428\n",
            "Epoch 5: ReduceLROnPlateau reducing learning rate to 1.9999999494757503e-05.\n",
            "2368/2368 [==============================] - 359s 150ms/step - loss: 0.1860 - accuracy: 0.9428 - val_loss: 0.9298 - val_accuracy: 0.7847 - lr: 1.0000e-04\n",
            "Epoch 6/100\n",
            "2368/2368 [==============================] - 358s 150ms/step - loss: 0.0388 - accuracy: 0.9899 - val_loss: 1.0192 - val_accuracy: 0.8101 - lr: 2.0000e-05\n"
          ]
        }
      ]
    },
    {
      "cell_type": "code",
      "source": [
        "fine_model.evalaute(test_data_batch)"
      ],
      "metadata": {
        "id": "L0s7w3MWkJmK"
      },
      "execution_count": null,
      "outputs": []
    },
    {
      "cell_type": "code",
      "source": [
        "finetune_model.summary()"
      ],
      "metadata": {
        "id": "QQlRI79meJ2H"
      },
      "execution_count": null,
      "outputs": []
    },
    {
      "cell_type": "code",
      "source": [],
      "metadata": {
        "id": "23f5mea7sIHU"
      },
      "execution_count": null,
      "outputs": []
    }
  ]
}